{
 "cells": [
  {
   "cell_type": "markdown",
   "metadata": {},
   "source": [
    "# Scraping Maryland Business Licenses with Selenium\n",
    "\n",
    "Maryland has a [great portal](https://jportal.mdcourts.gov/license/pbPublicSearch.jsp) for searching business licenses, but the only problem is you have to check a box in order to get in.\n",
    "\n",
    "1. Try to visit [the public search page](https://jportal.mdcourts.gov/license/pbPublicSearch.jsp)\n",
    "2. Get redirected to a \"I agree to this\" page. Click that you've read the disclaimer, click Enter the Site.\n",
    "3. Click \"Search License Records\" down at the bottom of the page\n",
    "4. You're now on the search page! From the \"Jurisdiction\" dropdown, select \"Statewide\"\n",
    "5. In the \"Trade Name\" field, type \"Vap%\" to try to find vape shops\n",
    "6. Click \"Next\" in the bottom right-hand corner to go to the next page\n",
    "7. Click \"Click for detail\" to see the details for a specific business license.\n",
    "\n",
    "That's a lot of stuff! **Let's get to work.**"
   ]
  },
  {
   "cell_type": "markdown",
   "metadata": {},
   "source": [
    "## Import what you need"
   ]
  },
  {
   "cell_type": "code",
   "execution_count": 1,
   "metadata": {},
   "outputs": [],
   "source": [
    "from selenium import webdriver\n",
    "from selenium.webdriver.common.keys import Keys\n",
    "from selenium.webdriver.support.ui import Select\n",
    "from selenium.webdriver.support.ui import WebDriverWait"
   ]
  },
  {
   "cell_type": "code",
   "execution_count": 2,
   "metadata": {},
   "outputs": [],
   "source": [
    "driver = webdriver.Chrome()"
   ]
  },
  {
   "cell_type": "markdown",
   "metadata": {},
   "source": [
    "## Preparation\n",
    "\n",
    "### When you search for a business license, what URL should Selenium try to visit first?"
   ]
  },
  {
   "cell_type": "code",
   "execution_count": 3,
   "metadata": {},
   "outputs": [],
   "source": [
    "#driver.get('https://jportal.mdcourts.gov/license/pbLicenseDetail.jsp?owi=P9P1un%2BwJUA%3D')"
   ]
  },
  {
   "cell_type": "markdown",
   "metadata": {},
   "source": [
    "**It isn't going to work, though! It's going to redirect to that intro page.** You can use *Incognito mode* to go back through the \"Check the box, etc\" series of pages, or you can close and re-open Chrome.\n",
    "\n",
    "- Check the checkbox, then submit the form to accept their terms of service\n",
    "\n",
    "Selenium can submit forms by either\n",
    "\n",
    "- Selecting the form and using `.submit()`, or\n",
    "- Selecting the button and using `.click()`\n",
    "\n",
    "You only need to be able to get **one, not both.**\n",
    "\n",
    "- *TIP: if something doesn't have anything special about it, xpath might be your best bet*"
   ]
  },
  {
   "cell_type": "code",
   "execution_count": 4,
   "metadata": {},
   "outputs": [],
   "source": [
    "driver.get('https://jportal.mdcourts.gov/license/pbPublicSearch.jsp')\n",
    "driver.find_element_by_tag_name(\"input\").click()\n"
   ]
  },
  {
   "cell_type": "code",
   "execution_count": 5,
   "metadata": {},
   "outputs": [],
   "source": [
    "driver.find_element_by_xpath(\"/html/body/table/tbody/tr[7]/td/form/div/input[2]\").click()"
   ]
  },
  {
   "cell_type": "markdown",
   "metadata": {},
   "source": [
    "Now click the **Search License Records** link up top in the navigation to get to the search page.\n",
    "\n",
    "- *TIP: Honestly you could also just visit the URL directly now since you filled out that terms of service thing*"
   ]
  },
  {
   "cell_type": "code",
   "execution_count": 6,
   "metadata": {},
   "outputs": [],
   "source": [
    "driver.get('https://jportal.mdcourts.gov/license/pbPublicSearch.jsp')"
   ]
  },
  {
   "cell_type": "code",
   "execution_count": null,
   "metadata": {},
   "outputs": [],
   "source": []
  },
  {
   "cell_type": "markdown",
   "metadata": {},
   "source": [
    "### Perform your search\n",
    "\n",
    "Pick \"Statewide\" for the jurisdiction dropdown, and `VAP%` into the Trade Name field. The `%` is a wildcard."
   ]
  },
  {
   "cell_type": "code",
   "execution_count": 7,
   "metadata": {},
   "outputs": [],
   "source": [
    "from selenium.webdriver.support.ui import Select\n",
    "select = Select(driver.find_element_by_id('slcJurisdiction'))\n",
    "select.select_by_visible_text('Statewide')\n",
    "trade_input = driver.find_element_by_id('txtTradeName')\n",
    "trade_input.send_keys('VAP%')"
   ]
  },
  {
   "cell_type": "code",
   "execution_count": null,
   "metadata": {},
   "outputs": [],
   "source": []
  },
  {
   "cell_type": "markdown",
   "metadata": {},
   "source": [
    "And now, of course, **submit the form**.\n",
    "\n",
    "- *TIP: Since scrolling to buttons can be a pain, sometimes it's easier to select the form and use `.submit()` instead of `.click()`ing the button*"
   ]
  },
  {
   "cell_type": "code",
   "execution_count": 8,
   "metadata": {},
   "outputs": [],
   "source": [
    "driver.find_element_by_xpath('/html/body/table[2]/tbody/tr[4]/td[2]/form/table/tbody/tr[14]/td/input[1]').click()"
   ]
  },
  {
   "cell_type": "code",
   "execution_count": null,
   "metadata": {},
   "outputs": [],
   "source": []
  },
  {
   "cell_type": "markdown",
   "metadata": {},
   "source": [
    "## (Try to) scrape the results\n",
    "\n",
    "Let's start by just **printing this stuff**. We'll save it as a dataframe later on.\n",
    "\n",
    "For now, just scrape **each store's name**, then cry a little. Fact: this is an impossible and miserable page. "
   ]
  },
  {
   "cell_type": "code",
   "execution_count": 9,
   "metadata": {},
   "outputs": [
    {
     "name": "stdout",
     "output_type": "stream",
     "text": [
      "VAPE IT STORE II\n",
      "VAPE IT STORE I\n",
      "VAPEPAD THE\n",
      "VAPE FROG\n",
      "VAPE FROG\n"
     ]
    }
   ],
   "source": [
    "names = driver.find_elements_by_class_name('searchlistitem')\n",
    "\n",
    "for name in names:\n",
    "    print(name.text)"
   ]
  },
  {
   "cell_type": "markdown",
   "metadata": {},
   "source": [
    "To avoid struggling with the search results page, we're going to use the **detail page** instead. Try to figure out how to select it and click it inside of your `for` loop.\n",
    "\n",
    "- *TIP: Instead of just looking for an `a` or an `img`, you might want to look for one of its parents first, then click. This might affect the way you print out the shop's name, too*\n",
    "- *TIP: Not all of them have links! You can wrap in try/except to skip it, or you can check to see if the shop's status is Pending.*"
   ]
  },
  {
   "cell_type": "code",
   "execution_count": 10,
   "metadata": {},
   "outputs": [],
   "source": []
  },
  {
   "cell_type": "code",
   "execution_count": 11,
   "metadata": {},
   "outputs": [],
   "source": [
    "#background work\n",
    "\n",
    "#link_buttons = driver.find_elements_by_tag_name('img')\n",
    "#link_buttons\n",
    "\n",
    "#first_result = driver.find_element_by_class_name('searchfieldtitle')\n",
    "#first_result.text\n",
    "#first_result.find_elements_by_tag_name(\"td\")[2].find_element_by_tag_name('a').click()\n",
    "#first_result\n",
    "\n"
   ]
  },
  {
   "cell_type": "code",
   "execution_count": 12,
   "metadata": {},
   "outputs": [],
   "source": [
    "#driver.find_element_by_class_name('searchfieldtitle').find_element_by_tag_name('a').click()\n",
    "#        detail_href = detail_link.get_attribute('href')"
   ]
  },
  {
   "cell_type": "code",
   "execution_count": 13,
   "metadata": {},
   "outputs": [
    {
     "data": {
      "text/plain": [
       "[<selenium.webdriver.remote.webelement.WebElement (session=\"283b7bd26ffacd067683f81892dcecb7\", element=\"0.18819708393341283-6\")>,\n",
       " <selenium.webdriver.remote.webelement.WebElement (session=\"283b7bd26ffacd067683f81892dcecb7\", element=\"0.18819708393341283-7\")>,\n",
       " <selenium.webdriver.remote.webelement.WebElement (session=\"283b7bd26ffacd067683f81892dcecb7\", element=\"0.18819708393341283-8\")>,\n",
       " <selenium.webdriver.remote.webelement.WebElement (session=\"283b7bd26ffacd067683f81892dcecb7\", element=\"0.18819708393341283-9\")>,\n",
       " <selenium.webdriver.remote.webelement.WebElement (session=\"283b7bd26ffacd067683f81892dcecb7\", element=\"0.18819708393341283-10\")>]"
      ]
     },
     "execution_count": 13,
     "metadata": {},
     "output_type": "execute_result"
    }
   ],
   "source": [
    "all_results = driver.find_elements_by_class_name('searchfieldtitle')\n",
    "all_results\n",
    "\n"
   ]
  },
  {
   "cell_type": "code",
   "execution_count": null,
   "metadata": {},
   "outputs": [],
   "source": []
  },
  {
   "cell_type": "code",
   "execution_count": 14,
   "metadata": {},
   "outputs": [],
   "source": [
    "#WORKING BUT COMMENTED OUT TO MAKE THE FOLLOWING TASKS IN THIS HOMEWORK SMOOTHER AND EASIER\n",
    "\n",
    "#for result in all_results:\n",
    "#    try:\n",
    "#        detail_link=result.find_element_by_tag_name('a')\n",
    "#        print(detail_link.get_attribute('href'))\n",
    "#    except:\n",
    "#        print('not working et')"
   ]
  },
  {
   "cell_type": "markdown",
   "metadata": {
    "collapsed": true
   },
   "source": [
    "Okay, now let's get to action. For each result, **click the link to the detail page** and print out the following information:\n",
    "\n",
    "- Mailing address\n",
    "- Location address\n",
    "- License information (you can keep it as one field)\n",
    "- Total amount paid\n",
    "- Issued by\n",
    "- If you're feeling crazy, get the licenses, too.\n",
    "\n",
    "If it doesn't have a detail page, just print out the name and that's all we need.\n",
    "\n",
    "- *TIP: When you're done getting the information, you probably want to click back to the search results*\n",
    "- *TIP: You might enjoy `find_element_by_partial_link_text` to do that*\n",
    "- *TIP: Licenses can be acquired by doing some really odd list slicing - think about where it starts and where it ends, relative to the beginning and end of everything.*\n",
    "\n",
    "> **IMPORTANT NOTE:** This is doomed. It's useful to do, but your current process is doomed. Once you get a `stale element reference` error move on to the next cell."
   ]
  },
  {
   "cell_type": "code",
   "execution_count": 15,
   "metadata": {},
   "outputs": [],
   "source": [
    "##WORKING BUT COMMENTED OUT TO MAKE THE FOLLOWING TASKS IN THIS HOMEWORK SMOOTHER AND EASIER\n",
    "\n",
    "#for result in all_results:\n",
    "#    detail_link=result.find_element_by_tag_name('a').click()\n",
    "#    print(driver.find_element_by_class_name('headline'))\n",
    "#    driver.find_element_by_partial_link_text('javascript:window.history.back();').click()\n",
    "\n",
    "    #except:\n",
    "    #    print('buu')\n",
    "        \n"
   ]
  },
  {
   "cell_type": "markdown",
   "metadata": {},
   "source": [
    "### Stale message reference\n",
    "\n",
    "Once you navigate away from a page, and you go back to it, you can't use the variables from the first time you were on the page. So, we got a list of results when we first visited, clicked to the details page, clicked back, and now our original list is \"stale.\"\n",
    "\n",
    "This is sad.\n",
    "\n",
    "Let's try this again: loop through the results and create a dataframe with `name` and `url` columns. And yes, some of them won't have URLs."
   ]
  },
  {
   "cell_type": "code",
   "execution_count": 16,
   "metadata": {},
   "outputs": [],
   "source": [
    "import pandas as pd"
   ]
  },
  {
   "cell_type": "code",
   "execution_count": 17,
   "metadata": {},
   "outputs": [
    {
     "name": "stdout",
     "output_type": "stream",
     "text": [
      "VAPE IT STORE II\n",
      "https://jportal.mdcourts.gov/license/pbLicenseDetail.jsp?owi=nq8kbzgVmJQ%3D\n",
      "VAPE IT STORE I\n",
      "https://jportal.mdcourts.gov/license/pbLicenseDetail.jsp?owi=oHQ4b%2BVaJfM%3D\n",
      "VAPEPAD THE\n",
      "https://jportal.mdcourts.gov/license/pbLicenseDetail.jsp?owi=bo6l0ivOZO8%3D\n",
      "VAPE FROG\n",
      "NaN\n",
      "VAPE FROG\n",
      "NaN\n"
     ]
    }
   ],
   "source": [
    "#Background work\n",
    "for result in all_results:\n",
    "    \n",
    "    shopname = result.find_element_by_class_name('searchlistitem')\n",
    "    print(shopname.text)\n",
    "    try:\n",
    "        detail_link = result.find_element_by_tag_name('a')\n",
    "        print(detail_link.get_attribute('href'))\n",
    "    except:\n",
    "        print('NaN')\n",
    "        \n"
   ]
  },
  {
   "cell_type": "code",
   "execution_count": 18,
   "metadata": {},
   "outputs": [
    {
     "data": {
      "text/plain": [
       "[{'name': 'VAPE IT STORE II',\n",
       "  'url': 'https://jportal.mdcourts.gov/license/pbLicenseDetail.jsp?owi=nq8kbzgVmJQ%3D'},\n",
       " {'name': 'VAPE IT STORE I',\n",
       "  'url': 'https://jportal.mdcourts.gov/license/pbLicenseDetail.jsp?owi=oHQ4b%2BVaJfM%3D'},\n",
       " {'name': 'VAPEPAD THE',\n",
       "  'url': 'https://jportal.mdcourts.gov/license/pbLicenseDetail.jsp?owi=bo6l0ivOZO8%3D'},\n",
       " {'name': 'VAPE FROG', 'url': 'NaN'},\n",
       " {'name': 'VAPE FROG', 'url': 'NaN'}]"
      ]
     },
     "execution_count": 18,
     "metadata": {},
     "output_type": "execute_result"
    }
   ],
   "source": [
    "#WORKING BUT COMMENTED OUT TO MAKE THE FOLLOWING TASKS IN THIS HOMEWORK SMOOTHER AND EASIER\n",
    "#\n",
    "#results_list = []\n",
    "#for result in all_results:\n",
    "#    result_dict = {}\n",
    "#    shopname = result.find_element_by_class_name('searchlistitem')\n",
    "#    result_dict['name'] = shopname.text\n",
    "#    \n",
    "#    try:\n",
    "#        detail_link = result.find_element_by_tag_name('a')\n",
    "#        detail_href = detail_link.get_attribute('href')\n",
    "#        result_dict['url'] = detail_href\n",
    "#    except:\n",
    "#        result_dict['url'] = ('NaN')\n",
    "#    results_list.append(result_dict)    \n",
    "#\n",
    "#results_list"
   ]
  },
  {
   "cell_type": "code",
   "execution_count": 19,
   "metadata": {},
   "outputs": [
    {
     "data": {
      "text/html": [
       "<div>\n",
       "<style scoped>\n",
       "    .dataframe tbody tr th:only-of-type {\n",
       "        vertical-align: middle;\n",
       "    }\n",
       "\n",
       "    .dataframe tbody tr th {\n",
       "        vertical-align: top;\n",
       "    }\n",
       "\n",
       "    .dataframe thead th {\n",
       "        text-align: right;\n",
       "    }\n",
       "</style>\n",
       "<table border=\"1\" class=\"dataframe\">\n",
       "  <thead>\n",
       "    <tr style=\"text-align: right;\">\n",
       "      <th></th>\n",
       "      <th>name</th>\n",
       "      <th>url</th>\n",
       "    </tr>\n",
       "  </thead>\n",
       "  <tbody>\n",
       "    <tr>\n",
       "      <th>0</th>\n",
       "      <td>VAPE IT STORE II</td>\n",
       "      <td>https://jportal.mdcourts.gov/license/pbLicense...</td>\n",
       "    </tr>\n",
       "    <tr>\n",
       "      <th>1</th>\n",
       "      <td>VAPE IT STORE I</td>\n",
       "      <td>https://jportal.mdcourts.gov/license/pbLicense...</td>\n",
       "    </tr>\n",
       "    <tr>\n",
       "      <th>2</th>\n",
       "      <td>VAPEPAD THE</td>\n",
       "      <td>https://jportal.mdcourts.gov/license/pbLicense...</td>\n",
       "    </tr>\n",
       "    <tr>\n",
       "      <th>3</th>\n",
       "      <td>VAPE FROG</td>\n",
       "      <td>NaN</td>\n",
       "    </tr>\n",
       "    <tr>\n",
       "      <th>4</th>\n",
       "      <td>VAPE FROG</td>\n",
       "      <td>NaN</td>\n",
       "    </tr>\n",
       "  </tbody>\n",
       "</table>\n",
       "</div>"
      ],
      "text/plain": [
       "               name                                                url\n",
       "0  VAPE IT STORE II  https://jportal.mdcourts.gov/license/pbLicense...\n",
       "1   VAPE IT STORE I  https://jportal.mdcourts.gov/license/pbLicense...\n",
       "2       VAPEPAD THE  https://jportal.mdcourts.gov/license/pbLicense...\n",
       "3         VAPE FROG                                                NaN\n",
       "4         VAPE FROG                                                NaN"
      ]
     },
     "execution_count": 19,
     "metadata": {},
     "output_type": "execute_result"
    }
   ],
   "source": [
    "df = pd.DataFrame(results_list)\n",
    "df.head()"
   ]
  },
  {
   "cell_type": "markdown",
   "metadata": {},
   "source": [
    "### Getting all of the results\n",
    "\n",
    "After you've looped through the results on one page, we're going to want to go to the next page! Add a line to make it click the 'Next' button down at the bottom\n",
    "\n",
    "- *Tip: `find_element_by_partial_link_text` will be your friend*\n",
    "- *Tip: You might need to do the scrolling thing to get it onto the screen (and by that I mean, you WILL need to, so you should)*\n",
    "\n",
    "Confirm that it moves to the next page (it doesn't need to scrape anything yet)"
   ]
  },
  {
   "cell_type": "code",
   "execution_count": 20,
   "metadata": {},
   "outputs": [],
   "source": [
    "#WORKING BUT COMMENTED OUT TO MAKE THE FOLLOWING TASKS IN THIS HOMEWORK SMOOTHER AND EASIER\n",
    "#results_list = []\n",
    "#for result in all_results:\n",
    "#    result_dict = {}\n",
    "#    shopname = result.find_element_by_class_name('searchlistitem')\n",
    "#    result_dict['name'] = shopname.text\n",
    "#    \n",
    "#    try:\n",
    "#        detail_link = result.find_element_by_tag_name('a')\n",
    "#        detail_href = detail_link.get_attribute('href')\n",
    "#        result_dict['url'] = detail_href\n",
    "#    except:\n",
    "#        result_dict['url'] = ('NaN')\n",
    "#    results_list.append(result_dict)\n",
    "#button = driver.find_element_by_xpath('/html/body/table[2]/tbody/tr[4]/td[2]/table[2]/tbody/tr/td[3]/a')\n",
    "#driver.execute_script(\"arguments[0].scrollIntoView(true)\", button)\n",
    "#button.click()\n",
    "#    \n",
    "#results_list"
   ]
  },
  {
   "cell_type": "code",
   "execution_count": null,
   "metadata": {},
   "outputs": [],
   "source": []
  },
  {
   "cell_type": "markdown",
   "metadata": {},
   "source": [
    "### Wrapping with `while`\n",
    "\n",
    "> Go back to the first page of results before you try to run this\n",
    "\n",
    "You have a bunch of scraping code. It clicks the next button, then it stops. But you'd like it to go back up to the top! You can make that happen with a special `while` loop.\n",
    "\n",
    "```python\n",
    "while True:\n",
    "    # Scrape your stuff\n",
    "    # Click next button\n",
    "```\n",
    "\n",
    "This will go on FOREVER AND EVER until there is an error (when it can't find the Next button on the last page of results, you'll get an error).\n",
    "\n",
    "- *Tip: Print out \"Scraping a new page\" every time you visit a new page, just to check that it's working*"
   ]
  },
  {
   "cell_type": "code",
   "execution_count": 21,
   "metadata": {},
   "outputs": [
    {
     "name": "stdout",
     "output_type": "stream",
     "text": [
      "Scraping a new page\n",
      "Scraping a new page\n",
      "Scraping a new page\n",
      "Scraping a new page\n",
      "Scraping a new page\n",
      "Scraping a new page\n"
     ]
    },
    {
     "ename": "NoSuchElementException",
     "evalue": "Message: no such element: Unable to locate element: {\"method\":\"xpath\",\"selector\":\"/html/body/table[2]/tbody/tr[4]/td[2]/table[2]/tbody/tr/td[3]/a\"}\n  (Session info: chrome=67.0.3396.87)\n  (Driver info: chromedriver=2.40.565386 (45a059dc425e08165f9a10324bd1380cc13ca363),platform=Mac OS X 10.13.4 x86_64)\n",
     "output_type": "error",
     "traceback": [
      "\u001b[0;31m---------------------------------------------------------------------------\u001b[0m",
      "\u001b[0;31mNoSuchElementException\u001b[0m                    Traceback (most recent call last)",
      "\u001b[0;32m<ipython-input-21-45f1531c038a>\u001b[0m in \u001b[0;36m<module>\u001b[0;34m()\u001b[0m\n\u001b[1;32m     21\u001b[0m \u001b[0;34m\u001b[0m\u001b[0m\n\u001b[1;32m     22\u001b[0m \u001b[0;34m\u001b[0m\u001b[0m\n\u001b[0;32m---> 23\u001b[0;31m     \u001b[0mbutton\u001b[0m \u001b[0;34m=\u001b[0m \u001b[0mdriver\u001b[0m\u001b[0;34m.\u001b[0m\u001b[0mfind_element_by_xpath\u001b[0m\u001b[0;34m(\u001b[0m\u001b[0;34m'/html/body/table[2]/tbody/tr[4]/td[2]/table[2]/tbody/tr/td[3]/a'\u001b[0m\u001b[0;34m)\u001b[0m\u001b[0;34m\u001b[0m\u001b[0m\n\u001b[0m\u001b[1;32m     24\u001b[0m     \u001b[0mdriver\u001b[0m\u001b[0;34m.\u001b[0m\u001b[0mexecute_script\u001b[0m\u001b[0;34m(\u001b[0m\u001b[0;34m\"arguments[0].scrollIntoView(true)\"\u001b[0m\u001b[0;34m,\u001b[0m \u001b[0mbutton\u001b[0m\u001b[0;34m)\u001b[0m\u001b[0;34m\u001b[0m\u001b[0m\n\u001b[1;32m     25\u001b[0m     \u001b[0mbutton\u001b[0m\u001b[0;34m.\u001b[0m\u001b[0mclick\u001b[0m\u001b[0;34m(\u001b[0m\u001b[0;34m)\u001b[0m\u001b[0;34m\u001b[0m\u001b[0m\n",
      "\u001b[0;32m~/.pyenv/versions/3.6.5/lib/python3.6/site-packages/selenium/webdriver/remote/webdriver.py\u001b[0m in \u001b[0;36mfind_element_by_xpath\u001b[0;34m(self, xpath)\u001b[0m\n\u001b[1;32m    385\u001b[0m             \u001b[0melement\u001b[0m \u001b[0;34m=\u001b[0m \u001b[0mdriver\u001b[0m\u001b[0;34m.\u001b[0m\u001b[0mfind_element_by_xpath\u001b[0m\u001b[0;34m(\u001b[0m\u001b[0;34m'//div/td[1]'\u001b[0m\u001b[0;34m)\u001b[0m\u001b[0;34m\u001b[0m\u001b[0m\n\u001b[1;32m    386\u001b[0m         \"\"\"\n\u001b[0;32m--> 387\u001b[0;31m         \u001b[0;32mreturn\u001b[0m \u001b[0mself\u001b[0m\u001b[0;34m.\u001b[0m\u001b[0mfind_element\u001b[0m\u001b[0;34m(\u001b[0m\u001b[0mby\u001b[0m\u001b[0;34m=\u001b[0m\u001b[0mBy\u001b[0m\u001b[0;34m.\u001b[0m\u001b[0mXPATH\u001b[0m\u001b[0;34m,\u001b[0m \u001b[0mvalue\u001b[0m\u001b[0;34m=\u001b[0m\u001b[0mxpath\u001b[0m\u001b[0;34m)\u001b[0m\u001b[0;34m\u001b[0m\u001b[0m\n\u001b[0m\u001b[1;32m    388\u001b[0m \u001b[0;34m\u001b[0m\u001b[0m\n\u001b[1;32m    389\u001b[0m     \u001b[0;32mdef\u001b[0m \u001b[0mfind_elements_by_xpath\u001b[0m\u001b[0;34m(\u001b[0m\u001b[0mself\u001b[0m\u001b[0;34m,\u001b[0m \u001b[0mxpath\u001b[0m\u001b[0;34m)\u001b[0m\u001b[0;34m:\u001b[0m\u001b[0;34m\u001b[0m\u001b[0m\n",
      "\u001b[0;32m~/.pyenv/versions/3.6.5/lib/python3.6/site-packages/selenium/webdriver/remote/webdriver.py\u001b[0m in \u001b[0;36mfind_element\u001b[0;34m(self, by, value)\u001b[0m\n\u001b[1;32m    955\u001b[0m         return self.execute(Command.FIND_ELEMENT, {\n\u001b[1;32m    956\u001b[0m             \u001b[0;34m'using'\u001b[0m\u001b[0;34m:\u001b[0m \u001b[0mby\u001b[0m\u001b[0;34m,\u001b[0m\u001b[0;34m\u001b[0m\u001b[0m\n\u001b[0;32m--> 957\u001b[0;31m             'value': value})['value']\n\u001b[0m\u001b[1;32m    958\u001b[0m \u001b[0;34m\u001b[0m\u001b[0m\n\u001b[1;32m    959\u001b[0m     \u001b[0;32mdef\u001b[0m \u001b[0mfind_elements\u001b[0m\u001b[0;34m(\u001b[0m\u001b[0mself\u001b[0m\u001b[0;34m,\u001b[0m \u001b[0mby\u001b[0m\u001b[0;34m=\u001b[0m\u001b[0mBy\u001b[0m\u001b[0;34m.\u001b[0m\u001b[0mID\u001b[0m\u001b[0;34m,\u001b[0m \u001b[0mvalue\u001b[0m\u001b[0;34m=\u001b[0m\u001b[0;32mNone\u001b[0m\u001b[0;34m)\u001b[0m\u001b[0;34m:\u001b[0m\u001b[0;34m\u001b[0m\u001b[0m\n",
      "\u001b[0;32m~/.pyenv/versions/3.6.5/lib/python3.6/site-packages/selenium/webdriver/remote/webdriver.py\u001b[0m in \u001b[0;36mexecute\u001b[0;34m(self, driver_command, params)\u001b[0m\n\u001b[1;32m    312\u001b[0m         \u001b[0mresponse\u001b[0m \u001b[0;34m=\u001b[0m \u001b[0mself\u001b[0m\u001b[0;34m.\u001b[0m\u001b[0mcommand_executor\u001b[0m\u001b[0;34m.\u001b[0m\u001b[0mexecute\u001b[0m\u001b[0;34m(\u001b[0m\u001b[0mdriver_command\u001b[0m\u001b[0;34m,\u001b[0m \u001b[0mparams\u001b[0m\u001b[0;34m)\u001b[0m\u001b[0;34m\u001b[0m\u001b[0m\n\u001b[1;32m    313\u001b[0m         \u001b[0;32mif\u001b[0m \u001b[0mresponse\u001b[0m\u001b[0;34m:\u001b[0m\u001b[0;34m\u001b[0m\u001b[0m\n\u001b[0;32m--> 314\u001b[0;31m             \u001b[0mself\u001b[0m\u001b[0;34m.\u001b[0m\u001b[0merror_handler\u001b[0m\u001b[0;34m.\u001b[0m\u001b[0mcheck_response\u001b[0m\u001b[0;34m(\u001b[0m\u001b[0mresponse\u001b[0m\u001b[0;34m)\u001b[0m\u001b[0;34m\u001b[0m\u001b[0m\n\u001b[0m\u001b[1;32m    315\u001b[0m             response['value'] = self._unwrap_value(\n\u001b[1;32m    316\u001b[0m                 response.get('value', None))\n",
      "\u001b[0;32m~/.pyenv/versions/3.6.5/lib/python3.6/site-packages/selenium/webdriver/remote/errorhandler.py\u001b[0m in \u001b[0;36mcheck_response\u001b[0;34m(self, response)\u001b[0m\n\u001b[1;32m    240\u001b[0m                 \u001b[0malert_text\u001b[0m \u001b[0;34m=\u001b[0m \u001b[0mvalue\u001b[0m\u001b[0;34m[\u001b[0m\u001b[0;34m'alert'\u001b[0m\u001b[0;34m]\u001b[0m\u001b[0;34m.\u001b[0m\u001b[0mget\u001b[0m\u001b[0;34m(\u001b[0m\u001b[0;34m'text'\u001b[0m\u001b[0;34m)\u001b[0m\u001b[0;34m\u001b[0m\u001b[0m\n\u001b[1;32m    241\u001b[0m             \u001b[0;32mraise\u001b[0m \u001b[0mexception_class\u001b[0m\u001b[0;34m(\u001b[0m\u001b[0mmessage\u001b[0m\u001b[0;34m,\u001b[0m \u001b[0mscreen\u001b[0m\u001b[0;34m,\u001b[0m \u001b[0mstacktrace\u001b[0m\u001b[0;34m,\u001b[0m \u001b[0malert_text\u001b[0m\u001b[0;34m)\u001b[0m\u001b[0;34m\u001b[0m\u001b[0m\n\u001b[0;32m--> 242\u001b[0;31m         \u001b[0;32mraise\u001b[0m \u001b[0mexception_class\u001b[0m\u001b[0;34m(\u001b[0m\u001b[0mmessage\u001b[0m\u001b[0;34m,\u001b[0m \u001b[0mscreen\u001b[0m\u001b[0;34m,\u001b[0m \u001b[0mstacktrace\u001b[0m\u001b[0;34m)\u001b[0m\u001b[0;34m\u001b[0m\u001b[0m\n\u001b[0m\u001b[1;32m    243\u001b[0m \u001b[0;34m\u001b[0m\u001b[0m\n\u001b[1;32m    244\u001b[0m     \u001b[0;32mdef\u001b[0m \u001b[0m_value_or_default\u001b[0m\u001b[0;34m(\u001b[0m\u001b[0mself\u001b[0m\u001b[0;34m,\u001b[0m \u001b[0mobj\u001b[0m\u001b[0;34m,\u001b[0m \u001b[0mkey\u001b[0m\u001b[0;34m,\u001b[0m \u001b[0mdefault\u001b[0m\u001b[0;34m)\u001b[0m\u001b[0;34m:\u001b[0m\u001b[0;34m\u001b[0m\u001b[0m\n",
      "\u001b[0;31mNoSuchElementException\u001b[0m: Message: no such element: Unable to locate element: {\"method\":\"xpath\",\"selector\":\"/html/body/table[2]/tbody/tr[4]/td[2]/table[2]/tbody/tr/td[3]/a\"}\n  (Session info: chrome=67.0.3396.87)\n  (Driver info: chromedriver=2.40.565386 (45a059dc425e08165f9a10324bd1380cc13ca363),platform=Mac OS X 10.13.4 x86_64)\n"
     ]
    }
   ],
   "source": [
    "results_list = []\n",
    "\n",
    "while True:\n",
    "    all_results = driver.find_elements_by_class_name('searchfieldtitle') \n",
    "\n",
    "\n",
    "    for result in all_results:\n",
    "        result_dict = {}\n",
    "        \n",
    "        shopname = result.find_elements_by_class_name('searchlistitem')[0]\n",
    "        result_dict['name'] = shopname.text\n",
    "\n",
    "        try:\n",
    "            detail_link = result.find_elements_by_tag_name('a')[0]\n",
    "            detail_href = detail_link.get_attribute('href')\n",
    "            result_dict['url'] = detail_href\n",
    "        except:\n",
    "            result_dict['url'] = ('NaN')\n",
    "            \n",
    "        results_list.append(result_dict)\n",
    "   \n",
    "    \n",
    "    button = driver.find_element_by_xpath('/html/body/table[2]/tbody/tr[4]/td[2]/table[2]/tbody/tr/td[3]/a')\n",
    "    driver.execute_script(\"arguments[0].scrollIntoView(true)\", button)\n",
    "    button.click()\n",
    "    print(\"Scraping a new page\")\n",
    "    \n"
   ]
  },
  {
   "cell_type": "code",
   "execution_count": null,
   "metadata": {},
   "outputs": [],
   "source": [
    "results_list"
   ]
  },
  {
   "cell_type": "markdown",
   "metadata": {},
   "source": [
    "### Making it perfect\n",
    "\n",
    "> Go back to the first page of results before you try to run this\n",
    "\n",
    "Wrap all of your code in a `try`/`except` so that it doesn't finish with an error and you'll be good to go.\n",
    "\n",
    "**Confirm your list has all of the vape shops in it.** If not, check where you are creating your empty list (`[]`) - if you do it in the wrong spot, it will overwrite your list every time you visit a page."
   ]
  },
  {
   "cell_type": "code",
   "execution_count": 31,
   "metadata": {},
   "outputs": [
    {
     "name": "stdout",
     "output_type": "stream",
     "text": [
      "Scraping a new page\n",
      "Scraping a new page\n",
      "Scraping a new page\n",
      "Scraping a new page\n",
      "Scraping a new page\n",
      "Scraping a new page\n"
     ]
    }
   ],
   "source": [
    "#WORKING!!#\n",
    "\n",
    "results_list = []\n",
    "\n",
    "try:\n",
    "    while True:\n",
    "        all_results = driver.find_elements_by_class_name('searchfieldtitle') \n",
    "    \n",
    "    \n",
    "        for result in all_results:\n",
    "            result_dict = {}\n",
    "            \n",
    "            shopname = result.find_elements_by_class_name('searchlistitem')[0]\n",
    "            result_dict['name'] = shopname.text\n",
    "    \n",
    "            try:\n",
    "                detail_link = result.find_elements_by_tag_name('a')[0]\n",
    "                detail_href = detail_link.get_attribute('href')\n",
    "                result_dict['url'] = detail_href\n",
    "            except:\n",
    "                result_dict['url'] = ('NaN')\n",
    "                \n",
    "            results_list.append(result_dict)\n",
    "       \n",
    "        \n",
    "        button = driver.find_element_by_xpath('/html/body/table[2]/tbody/tr[4]/td[2]/table[2]/tbody/tr/td[3]/a')\n",
    "        driver.execute_script(\"arguments[0].scrollIntoView(true)\", button)\n",
    "        button.click()\n",
    "        print(\"Scraping a new page\")\n",
    "except:\n",
    "    pass\n"
   ]
  },
  {
   "cell_type": "code",
   "execution_count": 32,
   "metadata": {},
   "outputs": [
    {
     "data": {
      "text/plain": [
       "[{'name': 'VAPE IT STORE II',\n",
       "  'url': 'https://jportal.mdcourts.gov/license/pbLicenseDetail.jsp?owi=nq8kbzgVmJQ%3D'},\n",
       " {'name': 'VAPE IT STORE I',\n",
       "  'url': 'https://jportal.mdcourts.gov/license/pbLicenseDetail.jsp?owi=oHQ4b%2BVaJfM%3D'},\n",
       " {'name': 'VAPEPAD THE',\n",
       "  'url': 'https://jportal.mdcourts.gov/license/pbLicenseDetail.jsp?owi=bo6l0ivOZO8%3D'},\n",
       " {'name': 'VAPE FROG', 'url': 'NaN'},\n",
       " {'name': 'VAPE FROG', 'url': 'NaN'},\n",
       " {'name': 'VAPE LOFT THE',\n",
       "  'url': 'https://jportal.mdcourts.gov/license/pbLicenseDetail.jsp?owi=e9yWX%2BhbzoQ%3D'},\n",
       " {'name': 'VAPE N CIGAR',\n",
       "  'url': 'https://jportal.mdcourts.gov/license/pbLicenseDetail.jsp?owi=lLizannKxFo%3D'},\n",
       " {'name': 'VAPE DOJO',\n",
       "  'url': 'https://jportal.mdcourts.gov/license/pbLicenseDetail.jsp?owi=lvZNkK6m4RQ%3D'},\n",
       " {'name': 'VAPE HAVEN', 'url': 'NaN'},\n",
       " {'name': 'VAPORS LOUNGE', 'url': 'NaN'},\n",
       " {'name': 'VAPORFI SOUTHSIDE',\n",
       "  'url': 'https://jportal.mdcourts.gov/license/pbLicenseDetail.jsp?owi=D6oDAUUx%2BiE%3D'},\n",
       " {'name': 'VAPE DO JO',\n",
       "  'url': 'https://jportal.mdcourts.gov/license/pbLicenseDetail.jsp?owi=1qbWOQOukyQ%3D'},\n",
       " {'name': 'VAPERTETMD', 'url': 'NaN'},\n",
       " {'name': 'VAPERTEKMD',\n",
       "  'url': 'https://jportal.mdcourts.gov/license/pbLicenseDetail.jsp?owi=pNdrAzOrAlI%3D'},\n",
       " {'name': 'VAPORIOT', 'url': 'NaN'},\n",
       " {'name': 'VAPE PLUS',\n",
       "  'url': 'https://jportal.mdcourts.gov/license/pbLicenseDetail.jsp?owi=1xydkvzYwz8%3D'},\n",
       " {'name': 'VAPE SOCIAL',\n",
       "  'url': 'https://jportal.mdcourts.gov/license/pbLicenseDetail.jsp?owi=imNAnpRhZf4%3D'},\n",
       " {'name': 'VAPE JUNGLE',\n",
       "  'url': 'https://jportal.mdcourts.gov/license/pbLicenseDetail.jsp?owi=Jj12mnMxivU%3D'},\n",
       " {'name': 'VAPE TIME', 'url': 'NaN'},\n",
       " {'name': 'VAPEBAR EXPESS', 'url': 'NaN'},\n",
       " {'name': 'VAPEWERKS',\n",
       "  'url': 'https://jportal.mdcourts.gov/license/pbLicenseDetail.jsp?owi=sBGGe%2BcDPZc%3D'},\n",
       " {'name': 'VAPIST MD',\n",
       "  'url': 'https://jportal.mdcourts.gov/license/pbLicenseDetail.jsp?owi=uUHqKwopebY%3D'},\n",
       " {'name': 'VAPOR 99', 'url': 'NaN'},\n",
       " {'name': 'VAPOR ALLEY',\n",
       "  'url': 'https://jportal.mdcourts.gov/license/pbLicenseDetail.jsp?owi=aG2PkJ8rH2k%3D'},\n",
       " {'name': 'VAPOR EMPORIUM',\n",
       "  'url': 'https://jportal.mdcourts.gov/license/pbLicenseDetail.jsp?owi=byUJKKncuAM%3D'},\n",
       " {'name': 'VAPOR VILLA',\n",
       "  'url': 'https://jportal.mdcourts.gov/license/pbLicenseDetail.jsp?owi=GcC%2FKZdZKmo%3D'},\n",
       " {'name': 'VAPOR VILLA',\n",
       "  'url': 'https://jportal.mdcourts.gov/license/pbLicenseDetail.jsp?owi=jskGK5iO%2FjA%3D'},\n",
       " {'name': 'VAPORS LOUNGE',\n",
       "  'url': 'https://jportal.mdcourts.gov/license/pbLicenseDetail.jsp?owi=l8YBK6itqU4%3D'},\n",
       " {'name': 'VAPE DOJO',\n",
       "  'url': 'https://jportal.mdcourts.gov/license/pbLicenseDetail.jsp?owi=gNVENj06nd8%3D'},\n",
       " {'name': 'VAPE DOJO',\n",
       "  'url': 'https://jportal.mdcourts.gov/license/pbLicenseDetail.jsp?owi=fMtCXrQJwfM%3D'},\n",
       " {'name': 'VAPE DOJO',\n",
       "  'url': 'https://jportal.mdcourts.gov/license/pbLicenseDetail.jsp?owi=RQyaisT9O%2Bs%3D'},\n",
       " {'name': 'VAPE DOJO',\n",
       "  'url': 'https://jportal.mdcourts.gov/license/pbLicenseDetail.jsp?owi=Y18df0yRsiY%3D'},\n",
       " {'name': 'VAPEZ YARDHOUSE', 'url': 'NaN'},\n",
       " {'name': 'VAPERS RING',\n",
       "  'url': 'https://jportal.mdcourts.gov/license/pbLicenseDetail.jsp?owi=9KYBdAKnSTE%3D'}]"
      ]
     },
     "execution_count": 32,
     "metadata": {},
     "output_type": "execute_result"
    }
   ],
   "source": [
    "results_list"
   ]
  },
  {
   "cell_type": "markdown",
   "metadata": {},
   "source": [
    "### Save this data as a csv\n",
    "\n",
    "The filename should be `vape-shops-basic.csv`."
   ]
  },
  {
   "cell_type": "code",
   "execution_count": null,
   "metadata": {},
   "outputs": [],
   "source": [
    "df_vapes = pd.DataFrame(results_list)\n",
    "df_vapes.to_csv(\"vape-shops-basic.csv\", index = False)"
   ]
  },
  {
   "cell_type": "code",
   "execution_count": null,
   "metadata": {},
   "outputs": [],
   "source": []
  },
  {
   "cell_type": "markdown",
   "metadata": {},
   "source": [
    "# Okay, let's scrape!\n",
    "\n",
    "All right, get the actual data!\n",
    "\n",
    "### Look at the URL of your first row\n",
    "\n",
    "- *TIP: Remember `pd.set_option('display.max_colwidth', -1)` will let you see alllll of your strings*"
   ]
  },
  {
   "cell_type": "code",
   "execution_count": null,
   "metadata": {},
   "outputs": [],
   "source": [
    "pd.set_option('display.max_colwidth', -1)\n",
    "df_vapes"
   ]
  },
  {
   "cell_type": "markdown",
   "metadata": {},
   "source": [
    "### Use Selenium to visit that page"
   ]
  },
  {
   "cell_type": "code",
   "execution_count": null,
   "metadata": {},
   "outputs": [],
   "source": [
    "driver.get(\"https://jportal.mdcourts.gov/license/pbLicenseDetail.jsp?owi=dM9fhUCnkyw%3D\")"
   ]
  },
  {
   "cell_type": "markdown",
   "metadata": {},
   "source": [
    "### Now, just like you did before, grab the additional data\n",
    "\n",
    "You should probably save it into a dictionary! Don't try to put it into the dataframe yet, though. You want:\n",
    "\n",
    "- Mailing address\n",
    "- Location address\n",
    "- License information (you can keep it as one field)\n",
    "- Total amount paid\n",
    "- Issued by\n",
    "- If you're feeling crazy, get the licenses, too.\n",
    "\n",
    ".\n",
    "\n",
    "- *TIP: Licenses can be acquired by doing some really odd list slicing - think about where it starts and where it ends, relative to the beginning and end of everything.*\n",
    "- *TIP: If you've gotten addicted to xpath, total amount paid and issued by might not work with it when doing other shops. You'll want to test it!*"
   ]
  },
  {
   "cell_type": "code",
   "execution_count": null,
   "metadata": {},
   "outputs": [],
   "source": [
    "total_paid = driver.find_elements_by_class_name('tablecelltext')[7].find_element_by_class_name('rt').text"
   ]
  },
  {
   "cell_type": "code",
   "execution_count": null,
   "metadata": {},
   "outputs": [],
   "source": [
    "mail_adress = driver.find_element_by_xpath(\"/html/body/table[2]/tbody/tr[4]/td[2]/table[1]/tbody/tr[3]/td[1]\").text\n",
    "loc_address =\n",
    "lic_info = \n",
    "Total amount paid  driver.find_elements_by_css_selector(td[]\n",
    "    \n",
    "\n",
    "issued_by = driver.find_elements_by_class_name('tablecelltext')[8].text\n",
    "\n",
    "\n",
    "\n",
    "\n",
    "\n",
    "\n",
    "\n"
   ]
  },
  {
   "cell_type": "markdown",
   "metadata": {},
   "source": [
    "### Move all of this into one cell\n",
    "\n",
    "It should visit the URL, then grab the data and put it into a dictionary."
   ]
  },
  {
   "cell_type": "code",
   "execution_count": null,
   "metadata": {},
   "outputs": [],
   "source": []
  },
  {
   "cell_type": "markdown",
   "metadata": {},
   "source": [
    "### Change it into a function\n",
    "\n",
    "You'll want to have this function accept a `row`, and send back a `pd.Series`. You can just use `pd.Series(your_dictionary)` (but it better have a better name than `your_dictionary`!).\n",
    "\n",
    "- *TIP: Make sure you `return` something!*\n",
    "- *TIP: Make sure you change everything to reflect the row's url, not the URL you typed in*"
   ]
  },
  {
   "cell_type": "code",
   "execution_count": null,
   "metadata": {},
   "outputs": [],
   "source": []
  },
  {
   "cell_type": "markdown",
   "metadata": {},
   "source": [
    "### Use your dataframe and `.apply` to pull all of the data from the vape shops\n",
    "\n",
    "Once you know it's working, use the whole \n",
    "\n",
    "- *TIP: Try using it with `.head(3)` first*\n",
    "- *TIP: You'll want to use `.apply` with your new function*\n",
    "- *TIP: Issued By and Total Paid are goign to give you problems if you tried to use xpath! Try checking the classes and think about find_elementSSSSS and working backwards instead of forwards.*\n",
    "- *TIP: You might need a `try`/`except`*\n",
    "- *TIP: Make sure you're using `axis=1`*\n",
    "- *TIP: Use `.join` the big thing with all of the `dfs` - make sure you name them right!*"
   ]
  },
  {
   "cell_type": "code",
   "execution_count": null,
   "metadata": {},
   "outputs": [],
   "source": []
  },
  {
   "cell_type": "markdown",
   "metadata": {},
   "source": [
    "## Save as `vape-total.csv`\n",
    "\n",
    "Make sure you don't save the index! Open it up in a text editor or Excel to make sure it's correct."
   ]
  },
  {
   "cell_type": "code",
   "execution_count": null,
   "metadata": {},
   "outputs": [],
   "source": []
  },
  {
   "cell_type": "code",
   "execution_count": null,
   "metadata": {},
   "outputs": [],
   "source": []
  },
  {
   "cell_type": "code",
   "execution_count": null,
   "metadata": {},
   "outputs": [],
   "source": []
  }
 ],
 "metadata": {
  "kernelspec": {
   "display_name": "Python 3",
   "language": "python",
   "name": "python3"
  },
  "language_info": {
   "codemirror_mode": {
    "name": "ipython",
    "version": 3
   },
   "file_extension": ".py",
   "mimetype": "text/x-python",
   "name": "python",
   "nbconvert_exporter": "python",
   "pygments_lexer": "ipython3",
   "version": "3.6.5"
  }
 },
 "nbformat": 4,
 "nbformat_minor": 2
}
