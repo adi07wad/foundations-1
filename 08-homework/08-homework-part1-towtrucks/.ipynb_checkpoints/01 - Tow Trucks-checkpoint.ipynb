{
 "cells": [
  {
   "cell_type": "markdown",
   "metadata": {},
   "source": [
    "# Texas Tow Trucks\n",
    "\n",
    "We're going to scrape some [tow trucks in Texas](https://www.tdlr.texas.gov/tools_search/)."
   ]
  },
  {
   "cell_type": "markdown",
   "metadata": {},
   "source": [
    "## Import your imports"
   ]
  },
  {
   "cell_type": "code",
   "execution_count": 1,
   "metadata": {},
   "outputs": [],
   "source": [
    "from selenium import webdriver\n",
    "from selenium.webdriver.common.keys import Keys\n",
    "from selenium.webdriver.support.ui import Select\n",
    "from selenium.webdriver.support.ui import WebDriverWait"
   ]
  },
  {
   "cell_type": "markdown",
   "metadata": {},
   "source": [
    "## Search for the TLDR Number `006179570C`, and scrape the information on that company\n",
    "\n",
    "Using [license information system](https://www.tdlr.texas.gov/tools_search/), find information about the tow truck number above, displaying the\n",
    "\n",
    "- The business name\n",
    "- Owner/operator\n",
    "- Phone number\n",
    "- License status (Active, Expired, Etc)\n",
    "- Physical address\n",
    "\n",
    "If you can't figure a 'nice' way to locate something, your two last options might be:\n",
    "\n",
    "- **Find a \"parent\" element, then dig inside**\n",
    "- **Find all of a type of element** (like we did with `td` before) and get the `[0]`, `[1]`, `[2]`, etc\n",
    "- **XPath** (inspect an element, Copy > Copy XPath)\n",
    "\n",
    "These kinds of techniques tend to break when you're on other result pages, but... maybe not! You won't know until you try.\n",
    "\n",
    "> - *TIP: When you use xpath, you CANNOT use double quotes or Python will get confused. Use single quotes.*\n",
    "> - *TIP: You can clean your data up if you want to, or leave it dirty to clean later*\n",
    "> - *TIP: The address part can be tough, but you have a few options. You can use a combination of `.split` and list slicing to clean it now, or clean it later in the dataframe with regular expressions. Or other options, too, probably*"
   ]
  },
  {
   "cell_type": "code",
   "execution_count": 2,
   "metadata": {},
   "outputs": [],
   "source": [
    "driver = webdriver.Chrome()"
   ]
  },
  {
   "cell_type": "code",
   "execution_count": 3,
   "metadata": {},
   "outputs": [],
   "source": [
    "driver.get('https://www.tdlr.texas.gov/tools_search/')"
   ]
  },
  {
   "cell_type": "code",
   "execution_count": 5,
   "metadata": {},
   "outputs": [],
   "source": [
    "driver.find_element_by_id('mcrdata').send_keys('006179570C')"
   ]
  },
  {
   "cell_type": "code",
   "execution_count": 8,
   "metadata": {},
   "outputs": [],
   "source": [
    "button = driver.find_element_by_id('submit3')\n",
    "button.click()"
   ]
  },
  {
   "cell_type": "code",
   "execution_count": 104,
   "metadata": {},
   "outputs": [
    {
     "data": {
      "text/plain": [
       "'BARRY MICHAEL SMITH'"
      ]
     },
     "execution_count": 104,
     "metadata": {},
     "output_type": "execute_result"
    }
   ],
   "source": [
    "comp_name = driver.find_element_by_xpath('//*[@id=\"t1\"]/tbody/tr/td/font/table[2]/tbody/tr[2]/td[1]').text[8:]\n",
    "comp_name"
   ]
  },
  {
   "cell_type": "code",
   "execution_count": 110,
   "metadata": {},
   "outputs": [
    {
     "data": {
      "text/plain": [
       "'BARRY MICHAEL SMITH / OWNER'"
      ]
     },
     "execution_count": 110,
     "metadata": {},
     "output_type": "execute_result"
    }
   ],
   "source": [
    "owner = driver.find_element_by_xpath('//*[@id=\"t1\"]/tbody/tr/td/font/table[2]/tbody/tr[3]/td[1]').text[17:]\n",
    "owner"
   ]
  },
  {
   "cell_type": "code",
   "execution_count": null,
   "metadata": {},
   "outputs": [],
   "source": []
  },
  {
   "cell_type": "code",
   "execution_count": 112,
   "metadata": {},
   "outputs": [
    {
     "data": {
      "text/plain": [
       "'8066544404'"
      ]
     },
     "execution_count": 112,
     "metadata": {},
     "output_type": "execute_result"
    }
   ],
   "source": [
    "phone = driver.find_element_by_xpath('//*[@id=\"t1\"]/tbody/tr/td/font/table[2]/tbody/tr[4]/td[1]').text[9:]\n",
    "phone\n"
   ]
  },
  {
   "cell_type": "code",
   "execution_count": 111,
   "metadata": {},
   "outputs": [
    {
     "data": {
      "text/plain": [
       "9"
      ]
     },
     "execution_count": 111,
     "metadata": {},
     "output_type": "execute_result"
    }
   ],
   "source": [
    "len('Phone:   ')"
   ]
  },
  {
   "cell_type": "code",
   "execution_count": 114,
   "metadata": {},
   "outputs": [
    {
     "data": {
      "text/plain": [
       "'(Active)'"
      ]
     },
     "execution_count": 114,
     "metadata": {},
     "output_type": "execute_result"
    }
   ],
   "source": [
    "lic_status = driver.find_element_by_xpath('//*[@id=\"t1\"]/tbody/tr/td/font/table[3]/tbody/tr[2]/td[1]/font').text[11:]\n",
    "lic_status"
   ]
  },
  {
   "cell_type": "code",
   "execution_count": 118,
   "metadata": {
    "scrolled": true
   },
   "outputs": [
    {
     "data": {
      "text/plain": [
       "'4501 W CEMETERY RD CANYON, TX. 79015'"
      ]
     },
     "execution_count": 118,
     "metadata": {},
     "output_type": "execute_result"
    }
   ],
   "source": [
    "address = (\" \").join(driver.find_element_by_xpath('//*[@id=\"t1\"]/tbody/tr/td/font/table[3]/tbody/tr[2]/td[2]').text.split(\"\\n\")[-2:])\n",
    "address\n",
    "\n",
    "\n"
   ]
  },
  {
   "cell_type": "code",
   "execution_count": 46,
   "metadata": {},
   "outputs": [],
   "source": [
    "#    The business name\n",
    "#    Owner/operator\n",
    "#    Phone number\n",
    "#    License status (Active, Expired, Etc)\n",
    "#    Physical address\n"
   ]
  },
  {
   "cell_type": "code",
   "execution_count": null,
   "metadata": {},
   "outputs": [],
   "source": []
  },
  {
   "cell_type": "markdown",
   "metadata": {},
   "source": [
    "# Adapt this to work inside of a single cell\n",
    "\n",
    "Double-check that it works. You want it to print out all of the details."
   ]
  },
  {
   "cell_type": "code",
   "execution_count": 119,
   "metadata": {},
   "outputs": [
    {
     "name": "stdout",
     "output_type": "stream",
     "text": [
      "BARRY MICHAEL SMITH\n",
      "BARRY MICHAEL SMITH / OWNER\n",
      "8066544404\n",
      "(Active)\n",
      "4501 W CEMETERY RD CANYON, TX. 79015\n"
     ]
    }
   ],
   "source": [
    "comp_name = driver.find_element_by_xpath('//*[@id=\"t1\"]/tbody/tr/td/font/table[2]/tbody/tr[2]/td[1]').text[8:]\n",
    "print(comp_name)\n",
    "owner = driver.find_element_by_xpath('//*[@id=\"t1\"]/tbody/tr/td/font/table[2]/tbody/tr[3]/td[1]').text[17:]\n",
    "print(owner)\n",
    "phone = driver.find_element_by_xpath('//*[@id=\"t1\"]/tbody/tr/td/font/table[2]/tbody/tr[4]/td[1]').text[9:]\n",
    "print(phone)\n",
    "lic_status = driver.find_element_by_xpath('//*[@id=\"t1\"]/tbody/tr/td/font/table[3]/tbody/tr[2]/td[1]/font').text[11:]\n",
    "print(lic_status)\n",
    "address = (\" \").join(driver.find_element_by_xpath('//*[@id=\"t1\"]/tbody/tr/td/font/table[3]/tbody/tr[2]/td[2]').text.split(\"\\n\")[-2:])\n",
    "print(address)"
   ]
  },
  {
   "cell_type": "markdown",
   "metadata": {},
   "source": [
    "# Using .apply to find data about SEVERAL tow truck companies\n",
    "\n",
    "The file `trucks-subset.csv` has information about the trucks, we'll use it to find the pages to scrape.\n",
    "\n",
    "### Open up `trucks-subset.csv` and save it into a dataframe"
   ]
  },
  {
   "cell_type": "code",
   "execution_count": 53,
   "metadata": {},
   "outputs": [
    {
     "data": {
      "text/html": [
       "<div>\n",
       "<style scoped>\n",
       "    .dataframe tbody tr th:only-of-type {\n",
       "        vertical-align: middle;\n",
       "    }\n",
       "\n",
       "    .dataframe tbody tr th {\n",
       "        vertical-align: top;\n",
       "    }\n",
       "\n",
       "    .dataframe thead th {\n",
       "        text-align: right;\n",
       "    }\n",
       "</style>\n",
       "<table border=\"1\" class=\"dataframe\">\n",
       "  <thead>\n",
       "    <tr style=\"text-align: right;\">\n",
       "      <th></th>\n",
       "      <th>TDLR Number</th>\n",
       "    </tr>\n",
       "  </thead>\n",
       "  <tbody>\n",
       "    <tr>\n",
       "      <th>0</th>\n",
       "      <td>006507931C</td>\n",
       "    </tr>\n",
       "    <tr>\n",
       "      <th>1</th>\n",
       "      <td>006179570C</td>\n",
       "    </tr>\n",
       "    <tr>\n",
       "      <th>2</th>\n",
       "      <td>006502097C</td>\n",
       "    </tr>\n",
       "  </tbody>\n",
       "</table>\n",
       "</div>"
      ],
      "text/plain": [
       "  TDLR Number\n",
       "0  006507931C\n",
       "1  006179570C\n",
       "2  006502097C"
      ]
     },
     "execution_count": 53,
     "metadata": {},
     "output_type": "execute_result"
    }
   ],
   "source": [
    "import pandas as pd\n",
    "df = pd.read_csv(\"trucks-subset.csv\")\n",
    "df.head()"
   ]
  },
  {
   "cell_type": "code",
   "execution_count": null,
   "metadata": {},
   "outputs": [],
   "source": []
  },
  {
   "cell_type": "code",
   "execution_count": null,
   "metadata": {
    "scrolled": true
   },
   "outputs": [],
   "source": []
  },
  {
   "cell_type": "markdown",
   "metadata": {},
   "source": [
    "## Go through each row of the dataset, displaying the URL you will need to scrape for the information on that row\n",
    "\n",
    "You don't have to actually use the search form for each of these - look at the URL you're on, it has the number in it!\n",
    "\n",
    "For example, one URL might look like `https://www.tdlr.texas.gov/tools_search/mccs_display.asp?mcrnumber=006495492C`.\n",
    "\n",
    "- *TIP: Use .apply and a function*\n",
    "- *TIP: Unlike the Yelp example, you'll need to build this URL from pieces*\n",
    "- *TIP: You probably don't want to `print` unless you're going to fix it for the next question \n",
    "- *TIP: pandas won't showing you the entire url! Run `pd.set_option('display.max_colwidth', -1)` to display aaaalll of the text in a cell*"
   ]
  },
  {
   "cell_type": "code",
   "execution_count": null,
   "metadata": {},
   "outputs": [],
   "source": []
  },
  {
   "cell_type": "code",
   "execution_count": 55,
   "metadata": {},
   "outputs": [],
   "source": [
    "pd.set_option('display.max_colwidth', -1)"
   ]
  },
  {
   "cell_type": "code",
   "execution_count": 54,
   "metadata": {},
   "outputs": [],
   "source": [
    "  "
   ]
  },
  {
   "cell_type": "code",
   "execution_count": 76,
   "metadata": {},
   "outputs": [],
   "source": [
    "def get_url(TDLRNumber):\n",
    "    return 'https://www.tdlr.texas.gov/tools_search/mccs_display.asp?mcrnumber='+TDLRNumber"
   ]
  },
  {
   "cell_type": "code",
   "execution_count": null,
   "metadata": {},
   "outputs": [],
   "source": []
  },
  {
   "cell_type": "markdown",
   "metadata": {},
   "source": [
    "### Save this URL into a new column of your dataframe, called `url`\n",
    "\n",
    "- *TIP: Use a function and `.apply`*\n",
    "- *TIP: Be sure to use `return`*"
   ]
  },
  {
   "cell_type": "code",
   "execution_count": 77,
   "metadata": {},
   "outputs": [
    {
     "data": {
      "text/html": [
       "<div>\n",
       "<style scoped>\n",
       "    .dataframe tbody tr th:only-of-type {\n",
       "        vertical-align: middle;\n",
       "    }\n",
       "\n",
       "    .dataframe tbody tr th {\n",
       "        vertical-align: top;\n",
       "    }\n",
       "\n",
       "    .dataframe thead th {\n",
       "        text-align: right;\n",
       "    }\n",
       "</style>\n",
       "<table border=\"1\" class=\"dataframe\">\n",
       "  <thead>\n",
       "    <tr style=\"text-align: right;\">\n",
       "      <th></th>\n",
       "      <th>TDLR Number</th>\n",
       "      <th>url</th>\n",
       "    </tr>\n",
       "  </thead>\n",
       "  <tbody>\n",
       "    <tr>\n",
       "      <th>0</th>\n",
       "      <td>006507931C</td>\n",
       "      <td>https://www.tdlr.texas.gov/tools_search/mccs_display.asp?mcrnumber=006507931C</td>\n",
       "    </tr>\n",
       "    <tr>\n",
       "      <th>1</th>\n",
       "      <td>006179570C</td>\n",
       "      <td>https://www.tdlr.texas.gov/tools_search/mccs_display.asp?mcrnumber=006179570C</td>\n",
       "    </tr>\n",
       "    <tr>\n",
       "      <th>2</th>\n",
       "      <td>006502097C</td>\n",
       "      <td>https://www.tdlr.texas.gov/tools_search/mccs_display.asp?mcrnumber=006502097C</td>\n",
       "    </tr>\n",
       "  </tbody>\n",
       "</table>\n",
       "</div>"
      ],
      "text/plain": [
       "  TDLR Number  \\\n",
       "0  006507931C   \n",
       "1  006179570C   \n",
       "2  006502097C   \n",
       "\n",
       "                                                                             url  \n",
       "0  https://www.tdlr.texas.gov/tools_search/mccs_display.asp?mcrnumber=006507931C  \n",
       "1  https://www.tdlr.texas.gov/tools_search/mccs_display.asp?mcrnumber=006179570C  \n",
       "2  https://www.tdlr.texas.gov/tools_search/mccs_display.asp?mcrnumber=006502097C  "
      ]
     },
     "execution_count": 77,
     "metadata": {},
     "output_type": "execute_result"
    }
   ],
   "source": [
    "df['url'] = df['TDLR Number'].apply(get_url)\n",
    "df.head()"
   ]
  },
  {
   "cell_type": "code",
   "execution_count": null,
   "metadata": {},
   "outputs": [],
   "source": []
  },
  {
   "cell_type": "code",
   "execution_count": null,
   "metadata": {},
   "outputs": [],
   "source": []
  },
  {
   "cell_type": "markdown",
   "metadata": {},
   "source": [
    "## Go through each row of the dataset, printing out information about each tow truck company.\n",
    "\n",
    "Now will be **scraping** inside of your function.\n",
    "\n",
    "- The business name\n",
    "- Owner/operator\n",
    "- Phone number\n",
    "- License status (Active, Expired, Etc)\n",
    "- Physical address\n",
    "\n",
    "Just print it out for now.\n",
    "\n",
    "- *TIP: use .apply*\n",
    "- *TIP: You'll be using the code you wrote before, but converted into a function*\n",
    "- *TIP: Remember how the TDLR Number is in the URL? You don't need to do the form submission if you don't want!*\n",
    "- *TIP: Make sure you adjust any variables so you don't scrape the same page again and again*"
   ]
  },
  {
   "cell_type": "code",
   "execution_count": 81,
   "metadata": {},
   "outputs": [],
   "source": []
  },
  {
   "cell_type": "code",
   "execution_count": null,
   "metadata": {},
   "outputs": [],
   "source": []
  },
  {
   "cell_type": "code",
   "execution_count": 148,
   "metadata": {},
   "outputs": [],
   "source": [
    "def get_company_info(row):\n",
    "    driver.get(row['url'])\n",
    "\n",
    "    comp_name = driver.find_element_by_xpath('//*[@id=\"t1\"]/tbody/tr/td/font/table[2]/tbody/tr[2]/td[1]').text[8:]\n",
    "\n",
    "    owner = driver.find_element_by_xpath('//*[@id=\"t1\"]/tbody/tr/td/font/table[2]/tbody/tr[3]/td[1]').text[17:]\n",
    "   \n",
    "    phone = driver.find_element_by_xpath('//*[@id=\"t1\"]/tbody/tr/td/font/table[2]/tbody/tr[4]/td[1]').text[9:]\n",
    "    \n",
    "    lic_status = driver.find_element_by_xpath('//*[@id=\"t1\"]/tbody/tr/td/font/table[3]/tbody/tr[2]/td[1]/font').text[11:]\n",
    "    \n",
    "    address = (\" \").join(driver.find_element_by_xpath('//*[@id=\"t1\"]/tbody/tr/td/font/table[3]/tbody/tr[2]/td[2]').text.split(\"\\n\")[-2:])\n",
    "    \n",
    "    print (comp_name)\n",
    "    print (owner)\n",
    "    print (phone)\n",
    "    print (lic_status)\n",
    "    print (address)\n",
    "    print (\"******\")\n",
    "\n"
   ]
  },
  {
   "cell_type": "code",
   "execution_count": 152,
   "metadata": {},
   "outputs": [
    {
     "name": "stdout",
     "output_type": "stream",
     "text": [
      "AUGUSTUS E SMITH\n",
      "AUGUSTUS EUGENE SMITH / OWNER\n",
      "9032276464\n",
      "(Active)\n",
      "103 N MAIN ST BONHAM, TX. 75418\n",
      "******\n",
      "B.D. SMITH TOWING\n",
      "BRANDT SMITH / OWNER\n",
      "8173330706\n",
      "(Expired)\n",
      "13619 BRETT JACKSON RD. FORT WORTH, TX. 76179\n",
      "******\n",
      "BARRY MICHAEL SMITH\n",
      "BARRY MICHAEL SMITH / OWNER\n",
      "8066544404\n",
      "(Active)\n",
      "4501 W CEMETERY RD CANYON, TX. 79015\n",
      "******\n"
     ]
    },
    {
     "data": {
      "text/plain": [
       "0    None\n",
       "1    None\n",
       "2    None\n",
       "dtype: object"
      ]
     },
     "execution_count": 152,
     "metadata": {},
     "output_type": "execute_result"
    }
   ],
   "source": [
    "df.apply(get_company_info, axis=1)\n"
   ]
  },
  {
   "cell_type": "code",
   "execution_count": null,
   "metadata": {},
   "outputs": [],
   "source": []
  },
  {
   "cell_type": "markdown",
   "metadata": {},
   "source": [
    "## Scrape the following information for each row of the dataset, and save it into new columns in your dataframe.\n",
    "\n",
    "- The business name\n",
    "- Owner/operator\n",
    "- Phone number\n",
    "- License status (Active, Expired, Etc)\n",
    "- Physical address\n",
    "\n",
    "It's basically what we did before, but using the function a little differently.\n",
    "\n",
    "- *TIP: Same as above, but you'll be returning a `pd.Series` and the `.apply` line is going to be a lot longer*\n",
    "- *TIP: Save it to a new dataframe!*\n",
    "- *TIP: Make sure you change your `df` variable names correctly if you're cutting and pasting - there are a few so it can get tricky*"
   ]
  },
  {
   "cell_type": "code",
   "execution_count": 153,
   "metadata": {},
   "outputs": [],
   "source": [
    "def get_company_info(row):\n",
    "    driver.get(row['url'])\n",
    "\n",
    "    comp_name = driver.find_element_by_xpath('//*[@id=\"t1\"]/tbody/tr/td/font/table[2]/tbody/tr[2]/td[1]').text[8:]\n",
    "\n",
    "    owner = driver.find_element_by_xpath('//*[@id=\"t1\"]/tbody/tr/td/font/table[2]/tbody/tr[3]/td[1]').text[17:]\n",
    "   \n",
    "    phone = driver.find_element_by_xpath('//*[@id=\"t1\"]/tbody/tr/td/font/table[2]/tbody/tr[4]/td[1]').text[9:]\n",
    "    \n",
    "    lic_status = driver.find_element_by_xpath('//*[@id=\"t1\"]/tbody/tr/td/font/table[3]/tbody/tr[2]/td[1]/font').text[11:]\n",
    "    \n",
    "    address = (\" \").join(driver.find_element_by_xpath('//*[@id=\"t1\"]/tbody/tr/td/font/table[3]/tbody/tr[2]/td[2]').text.split(\"\\n\")[-2:])\n",
    "    \n",
    "    return  pd.Series ({\n",
    "        'comp_name': comp_name,\n",
    "        'owner': owner,\n",
    "        'phone': phone,\n",
    "        'lic_status': lic_status,\n",
    "        'address': address\n",
    "       })"
   ]
  },
  {
   "cell_type": "code",
   "execution_count": 169,
   "metadata": {},
   "outputs": [
    {
     "data": {
      "text/html": [
       "<div>\n",
       "<style scoped>\n",
       "    .dataframe tbody tr th:only-of-type {\n",
       "        vertical-align: middle;\n",
       "    }\n",
       "\n",
       "    .dataframe tbody tr th {\n",
       "        vertical-align: top;\n",
       "    }\n",
       "\n",
       "    .dataframe thead th {\n",
       "        text-align: right;\n",
       "    }\n",
       "</style>\n",
       "<table border=\"1\" class=\"dataframe\">\n",
       "  <thead>\n",
       "    <tr style=\"text-align: right;\">\n",
       "      <th></th>\n",
       "      <th>comp_name</th>\n",
       "      <th>owner</th>\n",
       "      <th>phone</th>\n",
       "      <th>lic_status</th>\n",
       "      <th>address</th>\n",
       "      <th>TDLR Number</th>\n",
       "      <th>url</th>\n",
       "    </tr>\n",
       "  </thead>\n",
       "  <tbody>\n",
       "    <tr>\n",
       "      <th>0</th>\n",
       "      <td>AUGUSTUS E SMITH</td>\n",
       "      <td>AUGUSTUS EUGENE SMITH / OWNER</td>\n",
       "      <td>9032276464</td>\n",
       "      <td>(Active)</td>\n",
       "      <td>103 N MAIN ST BONHAM, TX. 75418</td>\n",
       "      <td>006507931C</td>\n",
       "      <td>https://www.tdlr.texas.gov/tools_search/mccs_display.asp?mcrnumber=006507931C</td>\n",
       "    </tr>\n",
       "    <tr>\n",
       "      <th>1</th>\n",
       "      <td>B.D. SMITH TOWING</td>\n",
       "      <td>BRANDT SMITH / OWNER</td>\n",
       "      <td>8173330706</td>\n",
       "      <td>(Expired)</td>\n",
       "      <td>13619 BRETT JACKSON RD. FORT WORTH, TX. 76179</td>\n",
       "      <td>006179570C</td>\n",
       "      <td>https://www.tdlr.texas.gov/tools_search/mccs_display.asp?mcrnumber=006179570C</td>\n",
       "    </tr>\n",
       "    <tr>\n",
       "      <th>2</th>\n",
       "      <td>BARRY MICHAEL SMITH</td>\n",
       "      <td>BARRY MICHAEL SMITH / OWNER</td>\n",
       "      <td>8066544404</td>\n",
       "      <td>(Active)</td>\n",
       "      <td>4501 W CEMETERY RD CANYON, TX. 79015</td>\n",
       "      <td>006502097C</td>\n",
       "      <td>https://www.tdlr.texas.gov/tools_search/mccs_display.asp?mcrnumber=006502097C</td>\n",
       "    </tr>\n",
       "  </tbody>\n",
       "</table>\n",
       "</div>"
      ],
      "text/plain": [
       "             comp_name                          owner       phone lic_status  \\\n",
       "0  AUGUSTUS E SMITH     AUGUSTUS EUGENE SMITH / OWNER  9032276464  (Active)    \n",
       "1  B.D. SMITH TOWING    BRANDT SMITH / OWNER           8173330706  (Expired)   \n",
       "2  BARRY MICHAEL SMITH  BARRY MICHAEL SMITH / OWNER    8066544404  (Active)    \n",
       "\n",
       "                                         address TDLR Number  \\\n",
       "0  103 N MAIN ST BONHAM, TX. 75418                006507931C   \n",
       "1  13619 BRETT JACKSON RD. FORT WORTH, TX. 76179  006179570C   \n",
       "2  4501 W CEMETERY RD CANYON, TX. 79015           006502097C   \n",
       "\n",
       "                                                                             url  \n",
       "0  https://www.tdlr.texas.gov/tools_search/mccs_display.asp?mcrnumber=006507931C  \n",
       "1  https://www.tdlr.texas.gov/tools_search/mccs_display.asp?mcrnumber=006179570C  \n",
       "2  https://www.tdlr.texas.gov/tools_search/mccs_display.asp?mcrnumber=006502097C  "
      ]
     },
     "execution_count": 169,
     "metadata": {},
     "output_type": "execute_result"
    }
   ],
   "source": [
    "new_df = df.apply(get_company_info, axis=1).join(df)\n",
    "new_df"
   ]
  },
  {
   "cell_type": "code",
   "execution_count": null,
   "metadata": {},
   "outputs": [],
   "source": []
  },
  {
   "cell_type": "markdown",
   "metadata": {},
   "source": [
    "### Save your dataframe as a CSV named `tow-trucks-extended.csv`"
   ]
  },
  {
   "cell_type": "code",
   "execution_count": 170,
   "metadata": {},
   "outputs": [],
   "source": [
    "new_df.to_csv(\"tow-trucks-extended.csv\", index=False)"
   ]
  },
  {
   "cell_type": "markdown",
   "metadata": {},
   "source": [
    "### Re-open your dataframe to confirm you didn't save any extra weird columns"
   ]
  },
  {
   "cell_type": "code",
   "execution_count": 160,
   "metadata": {},
   "outputs": [
    {
     "data": {
      "text/html": [
       "<div>\n",
       "<style scoped>\n",
       "    .dataframe tbody tr th:only-of-type {\n",
       "        vertical-align: middle;\n",
       "    }\n",
       "\n",
       "    .dataframe tbody tr th {\n",
       "        vertical-align: top;\n",
       "    }\n",
       "\n",
       "    .dataframe thead th {\n",
       "        text-align: right;\n",
       "    }\n",
       "</style>\n",
       "<table border=\"1\" class=\"dataframe\">\n",
       "  <thead>\n",
       "    <tr style=\"text-align: right;\">\n",
       "      <th></th>\n",
       "      <th>comp_name</th>\n",
       "      <th>owner</th>\n",
       "      <th>phone</th>\n",
       "      <th>lic_status</th>\n",
       "      <th>address</th>\n",
       "      <th>TDLR Number</th>\n",
       "      <th>url</th>\n",
       "    </tr>\n",
       "  </thead>\n",
       "  <tbody>\n",
       "    <tr>\n",
       "      <th>0</th>\n",
       "      <td>AUGUSTUS E SMITH</td>\n",
       "      <td>AUGUSTUS EUGENE SMITH / OWNER</td>\n",
       "      <td>9032276464</td>\n",
       "      <td>(Active)</td>\n",
       "      <td>103 N MAIN ST BONHAM, TX. 75418</td>\n",
       "      <td>006507931C</td>\n",
       "      <td>https://www.tdlr.texas.gov/tools_search/mccs_display.asp?mcrnumber=006507931C</td>\n",
       "    </tr>\n",
       "    <tr>\n",
       "      <th>1</th>\n",
       "      <td>B.D. SMITH TOWING</td>\n",
       "      <td>BRANDT SMITH / OWNER</td>\n",
       "      <td>8173330706</td>\n",
       "      <td>(Expired)</td>\n",
       "      <td>13619 BRETT JACKSON RD. FORT WORTH, TX. 76179</td>\n",
       "      <td>006179570C</td>\n",
       "      <td>https://www.tdlr.texas.gov/tools_search/mccs_display.asp?mcrnumber=006179570C</td>\n",
       "    </tr>\n",
       "    <tr>\n",
       "      <th>2</th>\n",
       "      <td>BARRY MICHAEL SMITH</td>\n",
       "      <td>BARRY MICHAEL SMITH / OWNER</td>\n",
       "      <td>8066544404</td>\n",
       "      <td>(Active)</td>\n",
       "      <td>4501 W CEMETERY RD CANYON, TX. 79015</td>\n",
       "      <td>006502097C</td>\n",
       "      <td>https://www.tdlr.texas.gov/tools_search/mccs_display.asp?mcrnumber=006502097C</td>\n",
       "    </tr>\n",
       "  </tbody>\n",
       "</table>\n",
       "</div>"
      ],
      "text/plain": [
       "             comp_name                          owner       phone lic_status  \\\n",
       "0  AUGUSTUS E SMITH     AUGUSTUS EUGENE SMITH / OWNER  9032276464  (Active)    \n",
       "1  B.D. SMITH TOWING    BRANDT SMITH / OWNER           8173330706  (Expired)   \n",
       "2  BARRY MICHAEL SMITH  BARRY MICHAEL SMITH / OWNER    8066544404  (Active)    \n",
       "\n",
       "                                         address TDLR Number  \\\n",
       "0  103 N MAIN ST BONHAM, TX. 75418                006507931C   \n",
       "1  13619 BRETT JACKSON RD. FORT WORTH, TX. 76179  006179570C   \n",
       "2  4501 W CEMETERY RD CANYON, TX. 79015           006502097C   \n",
       "\n",
       "                                                                             url  \n",
       "0  https://www.tdlr.texas.gov/tools_search/mccs_display.asp?mcrnumber=006507931C  \n",
       "1  https://www.tdlr.texas.gov/tools_search/mccs_display.asp?mcrnumber=006179570C  \n",
       "2  https://www.tdlr.texas.gov/tools_search/mccs_display.asp?mcrnumber=006502097C  "
      ]
     },
     "execution_count": 160,
     "metadata": {},
     "output_type": "execute_result"
    }
   ],
   "source": [
    "new_df = pd.read_csv(\"tow-trucks-extended.csv\")\n",
    "new_df.head()"
   ]
  },
  {
   "cell_type": "markdown",
   "metadata": {},
   "source": [
    "## Process the entire `tow-trucks.csv` file\n",
    "\n",
    "We just did it on a short subset so far. Now try it on all of the tow trucks. **Save as the same filename as before**"
   ]
  },
  {
   "cell_type": "code",
   "execution_count": 161,
   "metadata": {},
   "outputs": [],
   "source": [
    "df2 = pd.read_csv(\"tow-trucks.csv\")"
   ]
  },
  {
   "cell_type": "code",
   "execution_count": 162,
   "metadata": {},
   "outputs": [
    {
     "data": {
      "text/html": [
       "<div>\n",
       "<style scoped>\n",
       "    .dataframe tbody tr th:only-of-type {\n",
       "        vertical-align: middle;\n",
       "    }\n",
       "\n",
       "    .dataframe tbody tr th {\n",
       "        vertical-align: top;\n",
       "    }\n",
       "\n",
       "    .dataframe thead th {\n",
       "        text-align: right;\n",
       "    }\n",
       "</style>\n",
       "<table border=\"1\" class=\"dataframe\">\n",
       "  <thead>\n",
       "    <tr style=\"text-align: right;\">\n",
       "      <th></th>\n",
       "      <th>TDLR Number</th>\n",
       "    </tr>\n",
       "  </thead>\n",
       "  <tbody>\n",
       "    <tr>\n",
       "      <th>0</th>\n",
       "      <td>006507931C</td>\n",
       "    </tr>\n",
       "    <tr>\n",
       "      <th>1</th>\n",
       "      <td>006179570C</td>\n",
       "    </tr>\n",
       "    <tr>\n",
       "      <th>2</th>\n",
       "      <td>006502097C</td>\n",
       "    </tr>\n",
       "    <tr>\n",
       "      <th>3</th>\n",
       "      <td>006494912C</td>\n",
       "    </tr>\n",
       "    <tr>\n",
       "      <th>4</th>\n",
       "      <td>0649468VSF</td>\n",
       "    </tr>\n",
       "  </tbody>\n",
       "</table>\n",
       "</div>"
      ],
      "text/plain": [
       "  TDLR Number\n",
       "0  006507931C\n",
       "1  006179570C\n",
       "2  006502097C\n",
       "3  006494912C\n",
       "4  0649468VSF"
      ]
     },
     "execution_count": 162,
     "metadata": {},
     "output_type": "execute_result"
    }
   ],
   "source": [
    "df2.head()"
   ]
  },
  {
   "cell_type": "code",
   "execution_count": 163,
   "metadata": {},
   "outputs": [],
   "source": [
    "def get_url(TDLRNumber):\n",
    "    return 'https://www.tdlr.texas.gov/tools_search/mccs_display.asp?mcrnumber='+TDLRNumber"
   ]
  },
  {
   "cell_type": "code",
   "execution_count": 165,
   "metadata": {},
   "outputs": [
    {
     "data": {
      "text/html": [
       "<div>\n",
       "<style scoped>\n",
       "    .dataframe tbody tr th:only-of-type {\n",
       "        vertical-align: middle;\n",
       "    }\n",
       "\n",
       "    .dataframe tbody tr th {\n",
       "        vertical-align: top;\n",
       "    }\n",
       "\n",
       "    .dataframe thead th {\n",
       "        text-align: right;\n",
       "    }\n",
       "</style>\n",
       "<table border=\"1\" class=\"dataframe\">\n",
       "  <thead>\n",
       "    <tr style=\"text-align: right;\">\n",
       "      <th></th>\n",
       "      <th>TDLR Number</th>\n",
       "      <th>url</th>\n",
       "    </tr>\n",
       "  </thead>\n",
       "  <tbody>\n",
       "    <tr>\n",
       "      <th>0</th>\n",
       "      <td>006507931C</td>\n",
       "      <td>https://www.tdlr.texas.gov/tools_search/mccs_display.asp?mcrnumber=006507931C</td>\n",
       "    </tr>\n",
       "    <tr>\n",
       "      <th>1</th>\n",
       "      <td>006179570C</td>\n",
       "      <td>https://www.tdlr.texas.gov/tools_search/mccs_display.asp?mcrnumber=006179570C</td>\n",
       "    </tr>\n",
       "    <tr>\n",
       "      <th>2</th>\n",
       "      <td>006502097C</td>\n",
       "      <td>https://www.tdlr.texas.gov/tools_search/mccs_display.asp?mcrnumber=006502097C</td>\n",
       "    </tr>\n",
       "    <tr>\n",
       "      <th>3</th>\n",
       "      <td>006494912C</td>\n",
       "      <td>https://www.tdlr.texas.gov/tools_search/mccs_display.asp?mcrnumber=006494912C</td>\n",
       "    </tr>\n",
       "    <tr>\n",
       "      <th>4</th>\n",
       "      <td>0649468VSF</td>\n",
       "      <td>https://www.tdlr.texas.gov/tools_search/mccs_display.asp?mcrnumber=0649468VSF</td>\n",
       "    </tr>\n",
       "    <tr>\n",
       "      <th>5</th>\n",
       "      <td>006448786C</td>\n",
       "      <td>https://www.tdlr.texas.gov/tools_search/mccs_display.asp?mcrnumber=006448786C</td>\n",
       "    </tr>\n",
       "    <tr>\n",
       "      <th>6</th>\n",
       "      <td>0648444VSF</td>\n",
       "      <td>https://www.tdlr.texas.gov/tools_search/mccs_display.asp?mcrnumber=0648444VSF</td>\n",
       "    </tr>\n",
       "    <tr>\n",
       "      <th>7</th>\n",
       "      <td>0651667VSF</td>\n",
       "      <td>https://www.tdlr.texas.gov/tools_search/mccs_display.asp?mcrnumber=0651667VSF</td>\n",
       "    </tr>\n",
       "    <tr>\n",
       "      <th>8</th>\n",
       "      <td>006017767C</td>\n",
       "      <td>https://www.tdlr.texas.gov/tools_search/mccs_display.asp?mcrnumber=006017767C</td>\n",
       "    </tr>\n",
       "    <tr>\n",
       "      <th>9</th>\n",
       "      <td>006495492C</td>\n",
       "      <td>https://www.tdlr.texas.gov/tools_search/mccs_display.asp?mcrnumber=006495492C</td>\n",
       "    </tr>\n",
       "    <tr>\n",
       "      <th>10</th>\n",
       "      <td>006518521C</td>\n",
       "      <td>https://www.tdlr.texas.gov/tools_search/mccs_display.asp?mcrnumber=006518521C</td>\n",
       "    </tr>\n",
       "    <tr>\n",
       "      <th>11</th>\n",
       "      <td>006521662C</td>\n",
       "      <td>https://www.tdlr.texas.gov/tools_search/mccs_display.asp?mcrnumber=006521662C</td>\n",
       "    </tr>\n",
       "    <tr>\n",
       "      <th>12</th>\n",
       "      <td>006482451C</td>\n",
       "      <td>https://www.tdlr.texas.gov/tools_search/mccs_display.asp?mcrnumber=006482451C</td>\n",
       "    </tr>\n",
       "    <tr>\n",
       "      <th>13</th>\n",
       "      <td>0646264VSF</td>\n",
       "      <td>https://www.tdlr.texas.gov/tools_search/mccs_display.asp?mcrnumber=0646264VSF</td>\n",
       "    </tr>\n",
       "    <tr>\n",
       "      <th>14</th>\n",
       "      <td>0650690VSF</td>\n",
       "      <td>https://www.tdlr.texas.gov/tools_search/mccs_display.asp?mcrnumber=0650690VSF</td>\n",
       "    </tr>\n",
       "    <tr>\n",
       "      <th>15</th>\n",
       "      <td>006505010C</td>\n",
       "      <td>https://www.tdlr.texas.gov/tools_search/mccs_display.asp?mcrnumber=006505010C</td>\n",
       "    </tr>\n",
       "    <tr>\n",
       "      <th>16</th>\n",
       "      <td>0000210VSF</td>\n",
       "      <td>https://www.tdlr.texas.gov/tools_search/mccs_display.asp?mcrnumber=0000210VSF</td>\n",
       "    </tr>\n",
       "    <tr>\n",
       "      <th>17</th>\n",
       "      <td>005029369C</td>\n",
       "      <td>https://www.tdlr.texas.gov/tools_search/mccs_display.asp?mcrnumber=005029369C</td>\n",
       "    </tr>\n",
       "    <tr>\n",
       "      <th>18</th>\n",
       "      <td>006410509C</td>\n",
       "      <td>https://www.tdlr.texas.gov/tools_search/mccs_display.asp?mcrnumber=006410509C</td>\n",
       "    </tr>\n",
       "    <tr>\n",
       "      <th>19</th>\n",
       "      <td>0643482VSF</td>\n",
       "      <td>https://www.tdlr.texas.gov/tools_search/mccs_display.asp?mcrnumber=0643482VSF</td>\n",
       "    </tr>\n",
       "  </tbody>\n",
       "</table>\n",
       "</div>"
      ],
      "text/plain": [
       "   TDLR Number  \\\n",
       "0   006507931C   \n",
       "1   006179570C   \n",
       "2   006502097C   \n",
       "3   006494912C   \n",
       "4   0649468VSF   \n",
       "5   006448786C   \n",
       "6   0648444VSF   \n",
       "7   0651667VSF   \n",
       "8   006017767C   \n",
       "9   006495492C   \n",
       "10  006518521C   \n",
       "11  006521662C   \n",
       "12  006482451C   \n",
       "13  0646264VSF   \n",
       "14  0650690VSF   \n",
       "15  006505010C   \n",
       "16  0000210VSF   \n",
       "17  005029369C   \n",
       "18  006410509C   \n",
       "19  0643482VSF   \n",
       "\n",
       "                                                                              url  \n",
       "0   https://www.tdlr.texas.gov/tools_search/mccs_display.asp?mcrnumber=006507931C  \n",
       "1   https://www.tdlr.texas.gov/tools_search/mccs_display.asp?mcrnumber=006179570C  \n",
       "2   https://www.tdlr.texas.gov/tools_search/mccs_display.asp?mcrnumber=006502097C  \n",
       "3   https://www.tdlr.texas.gov/tools_search/mccs_display.asp?mcrnumber=006494912C  \n",
       "4   https://www.tdlr.texas.gov/tools_search/mccs_display.asp?mcrnumber=0649468VSF  \n",
       "5   https://www.tdlr.texas.gov/tools_search/mccs_display.asp?mcrnumber=006448786C  \n",
       "6   https://www.tdlr.texas.gov/tools_search/mccs_display.asp?mcrnumber=0648444VSF  \n",
       "7   https://www.tdlr.texas.gov/tools_search/mccs_display.asp?mcrnumber=0651667VSF  \n",
       "8   https://www.tdlr.texas.gov/tools_search/mccs_display.asp?mcrnumber=006017767C  \n",
       "9   https://www.tdlr.texas.gov/tools_search/mccs_display.asp?mcrnumber=006495492C  \n",
       "10  https://www.tdlr.texas.gov/tools_search/mccs_display.asp?mcrnumber=006518521C  \n",
       "11  https://www.tdlr.texas.gov/tools_search/mccs_display.asp?mcrnumber=006521662C  \n",
       "12  https://www.tdlr.texas.gov/tools_search/mccs_display.asp?mcrnumber=006482451C  \n",
       "13  https://www.tdlr.texas.gov/tools_search/mccs_display.asp?mcrnumber=0646264VSF  \n",
       "14  https://www.tdlr.texas.gov/tools_search/mccs_display.asp?mcrnumber=0650690VSF  \n",
       "15  https://www.tdlr.texas.gov/tools_search/mccs_display.asp?mcrnumber=006505010C  \n",
       "16  https://www.tdlr.texas.gov/tools_search/mccs_display.asp?mcrnumber=0000210VSF  \n",
       "17  https://www.tdlr.texas.gov/tools_search/mccs_display.asp?mcrnumber=005029369C  \n",
       "18  https://www.tdlr.texas.gov/tools_search/mccs_display.asp?mcrnumber=006410509C  \n",
       "19  https://www.tdlr.texas.gov/tools_search/mccs_display.asp?mcrnumber=0643482VSF  "
      ]
     },
     "execution_count": 165,
     "metadata": {},
     "output_type": "execute_result"
    }
   ],
   "source": [
    "df2['url'] = df2['TDLR Number'].apply(get_url)\n",
    "df2.head()"
   ]
  },
  {
   "cell_type": "code",
   "execution_count": 166,
   "metadata": {},
   "outputs": [],
   "source": [
    "def get_company_info(row):\n",
    "    driver.get(row['url'])\n",
    "\n",
    "    comp_name = driver.find_element_by_xpath('//*[@id=\"t1\"]/tbody/tr/td/font/table[2]/tbody/tr[2]/td[1]').text[8:]\n",
    "\n",
    "    owner = driver.find_element_by_xpath('//*[@id=\"t1\"]/tbody/tr/td/font/table[2]/tbody/tr[3]/td[1]').text[17:]\n",
    "   \n",
    "    phone = driver.find_element_by_xpath('//*[@id=\"t1\"]/tbody/tr/td/font/table[2]/tbody/tr[4]/td[1]').text[9:]\n",
    "    \n",
    "    lic_status = driver.find_element_by_xpath('//*[@id=\"t1\"]/tbody/tr/td/font/table[3]/tbody/tr[2]/td[1]/font').text[11:]\n",
    "    \n",
    "    address = (\" \").join(driver.find_element_by_xpath('//*[@id=\"t1\"]/tbody/tr/td/font/table[3]/tbody/tr[2]/td[2]').text.split(\"\\n\")[-2:])\n",
    "    \n",
    "    return  pd.Series ({\n",
    "        'comp_name': comp_name,\n",
    "        'owner': owner,\n",
    "        'phone': phone,\n",
    "        'lic_status': lic_status,\n",
    "        'address': address\n",
    "       })"
   ]
  },
  {
   "cell_type": "code",
   "execution_count": 172,
   "metadata": {},
   "outputs": [
    {
     "data": {
      "text/html": [
       "<div>\n",
       "<style scoped>\n",
       "    .dataframe tbody tr th:only-of-type {\n",
       "        vertical-align: middle;\n",
       "    }\n",
       "\n",
       "    .dataframe tbody tr th {\n",
       "        vertical-align: top;\n",
       "    }\n",
       "\n",
       "    .dataframe thead th {\n",
       "        text-align: right;\n",
       "    }\n",
       "</style>\n",
       "<table border=\"1\" class=\"dataframe\">\n",
       "  <thead>\n",
       "    <tr style=\"text-align: right;\">\n",
       "      <th></th>\n",
       "      <th>comp_name</th>\n",
       "      <th>owner</th>\n",
       "      <th>phone</th>\n",
       "      <th>lic_status</th>\n",
       "      <th>address</th>\n",
       "      <th>TDLR Number</th>\n",
       "      <th>url</th>\n",
       "    </tr>\n",
       "  </thead>\n",
       "  <tbody>\n",
       "    <tr>\n",
       "      <th>0</th>\n",
       "      <td>AUGUSTUS E SMITH</td>\n",
       "      <td>AUGUSTUS EUGENE SMITH / OWNER</td>\n",
       "      <td>9032276464</td>\n",
       "      <td>(Active)</td>\n",
       "      <td>103 N MAIN ST BONHAM, TX. 75418</td>\n",
       "      <td>006507931C</td>\n",
       "      <td>https://www.tdlr.texas.gov/tools_search/mccs_display.asp?mcrnumber=006507931C</td>\n",
       "    </tr>\n",
       "    <tr>\n",
       "      <th>1</th>\n",
       "      <td>B.D. SMITH TOWING</td>\n",
       "      <td>BRANDT SMITH / OWNER</td>\n",
       "      <td>8173330706</td>\n",
       "      <td>(Expired)</td>\n",
       "      <td>13619 BRETT JACKSON RD. FORT WORTH, TX. 76179</td>\n",
       "      <td>006179570C</td>\n",
       "      <td>https://www.tdlr.texas.gov/tools_search/mccs_display.asp?mcrnumber=006179570C</td>\n",
       "    </tr>\n",
       "    <tr>\n",
       "      <th>2</th>\n",
       "      <td>BARRY MICHAEL SMITH</td>\n",
       "      <td>BARRY MICHAEL SMITH / OWNER</td>\n",
       "      <td>8066544404</td>\n",
       "      <td>(Active)</td>\n",
       "      <td>4501 W CEMETERY RD CANYON, TX. 79015</td>\n",
       "      <td>006502097C</td>\n",
       "      <td>https://www.tdlr.texas.gov/tools_search/mccs_display.asp?mcrnumber=006502097C</td>\n",
       "    </tr>\n",
       "    <tr>\n",
       "      <th>3</th>\n",
       "      <td>HEATH SMITH</td>\n",
       "      <td>HEATH A SMITH / OWNER</td>\n",
       "      <td>940-552-0687</td>\n",
       "      <td>(Expired)</td>\n",
       "      <td>1529 WILBARGER ST VERNON, TX. 76384</td>\n",
       "      <td>006494912C</td>\n",
       "      <td>https://www.tdlr.texas.gov/tools_search/mccs_display.asp?mcrnumber=006494912C</td>\n",
       "    </tr>\n",
       "    <tr>\n",
       "      <th>4</th>\n",
       "      <td>HEATH SMITH</td>\n",
       "      <td>HEATH A SMITH / OWNER</td>\n",
       "      <td>9405520687</td>\n",
       "      <td>(Expired)</td>\n",
       "      <td>1529 WILBARGER ST VERNON, TX. 76384</td>\n",
       "      <td>0649468VSF</td>\n",
       "      <td>https://www.tdlr.texas.gov/tools_search/mccs_display.asp?mcrnumber=0649468VSF</td>\n",
       "    </tr>\n",
       "    <tr>\n",
       "      <th>5</th>\n",
       "      <td>HYSMITH AUTOMOTIVE</td>\n",
       "      <td>WILLIAM THOMAS HYSMITH / PRESIDENT</td>\n",
       "      <td>icer:   ASHLEY ERIN HYSMITH / TREASURER</td>\n",
       "      <td>(Active)</td>\n",
       "      <td>1210 US 380 BYPASS GRAHAM, TX. 76450</td>\n",
       "      <td>006448786C</td>\n",
       "      <td>https://www.tdlr.texas.gov/tools_search/mccs_display.asp?mcrnumber=006448786C</td>\n",
       "    </tr>\n",
       "    <tr>\n",
       "      <th>6</th>\n",
       "      <td>HYSMITH AUTOMOTIVE &amp; TRUCK REPAIR INC</td>\n",
       "      <td>HYSMITH ERIN ASHLEY / TREASURER</td>\n",
       "      <td>icer:   WILLIAM THOMAS HYSMITH / PRESIDENT</td>\n",
       "      <td>(Suspended)</td>\n",
       "      <td>927 LOVING HWY GRAHAM, TX. 76450</td>\n",
       "      <td>0648444VSF</td>\n",
       "      <td>https://www.tdlr.texas.gov/tools_search/mccs_display.asp?mcrnumber=0648444VSF</td>\n",
       "    </tr>\n",
       "    <tr>\n",
       "      <th>7</th>\n",
       "      <td>HYSMITH AUTOMOTIVE &amp; TRUCK REPAIR INC</td>\n",
       "      <td>WILLIAM THOMAS HYSMITH / PRESIDENT</td>\n",
       "      <td>icer:   ASHLEY ERIN HYSMITH / TREASURER</td>\n",
       "      <td>(Active)</td>\n",
       "      <td>1210 380 BYPASS GRAHAM, TX. 76450</td>\n",
       "      <td>0651667VSF</td>\n",
       "      <td>https://www.tdlr.texas.gov/tools_search/mccs_display.asp?mcrnumber=0651667VSF</td>\n",
       "    </tr>\n",
       "    <tr>\n",
       "      <th>8</th>\n",
       "      <td>JEFF &amp; WENDY SMITH</td>\n",
       "      <td>JEFF SMITH / PARTNER</td>\n",
       "      <td>icer:   WENDY SMITH / PARTNER</td>\n",
       "      <td>(Suspended)</td>\n",
       "      <td>10842 FM 2138 N JACKSONVILLE, TX. 75766</td>\n",
       "      <td>006017767C</td>\n",
       "      <td>https://www.tdlr.texas.gov/tools_search/mccs_display.asp?mcrnumber=006017767C</td>\n",
       "    </tr>\n",
       "    <tr>\n",
       "      <th>9</th>\n",
       "      <td>JEFF SMITH</td>\n",
       "      <td>JEFFREY JOHN SMITH / OWNER</td>\n",
       "      <td>8324354670</td>\n",
       "      <td>(Active)</td>\n",
       "      <td>4338 HARVEY RD CROSBY, TX. 77532</td>\n",
       "      <td>006495492C</td>\n",
       "      <td>https://www.tdlr.texas.gov/tools_search/mccs_display.asp?mcrnumber=006495492C</td>\n",
       "    </tr>\n",
       "  </tbody>\n",
       "</table>\n",
       "</div>"
      ],
      "text/plain": [
       "                               comp_name                               owner  \\\n",
       "0  AUGUSTUS E SMITH                       AUGUSTUS EUGENE SMITH / OWNER        \n",
       "1  B.D. SMITH TOWING                      BRANDT SMITH / OWNER                 \n",
       "2  BARRY MICHAEL SMITH                    BARRY MICHAEL SMITH / OWNER          \n",
       "3  HEATH SMITH                            HEATH A SMITH / OWNER                \n",
       "4  HEATH SMITH                            HEATH A SMITH / OWNER                \n",
       "5  HYSMITH AUTOMOTIVE                     WILLIAM THOMAS HYSMITH / PRESIDENT   \n",
       "6  HYSMITH AUTOMOTIVE & TRUCK REPAIR INC  HYSMITH ERIN ASHLEY / TREASURER      \n",
       "7  HYSMITH AUTOMOTIVE & TRUCK REPAIR INC  WILLIAM THOMAS HYSMITH / PRESIDENT   \n",
       "8  JEFF & WENDY SMITH                     JEFF SMITH / PARTNER                 \n",
       "9  JEFF SMITH                             JEFFREY JOHN SMITH / OWNER           \n",
       "\n",
       "                                        phone   lic_status  \\\n",
       "0  9032276464                                  (Active)      \n",
       "1  8173330706                                  (Expired)     \n",
       "2  8066544404                                  (Active)      \n",
       "3  940-552-0687                                (Expired)     \n",
       "4  9405520687                                  (Expired)     \n",
       "5  icer:   ASHLEY ERIN HYSMITH / TREASURER     (Active)      \n",
       "6  icer:   WILLIAM THOMAS HYSMITH / PRESIDENT  (Suspended)   \n",
       "7  icer:   ASHLEY ERIN HYSMITH / TREASURER     (Active)      \n",
       "8  icer:   WENDY SMITH / PARTNER               (Suspended)   \n",
       "9  8324354670                                  (Active)      \n",
       "\n",
       "                                         address TDLR Number  \\\n",
       "0  103 N MAIN ST BONHAM, TX. 75418                006507931C   \n",
       "1  13619 BRETT JACKSON RD. FORT WORTH, TX. 76179  006179570C   \n",
       "2  4501 W CEMETERY RD CANYON, TX. 79015           006502097C   \n",
       "3  1529 WILBARGER ST VERNON, TX. 76384            006494912C   \n",
       "4  1529 WILBARGER ST VERNON, TX. 76384            0649468VSF   \n",
       "5  1210 US 380 BYPASS GRAHAM, TX. 76450           006448786C   \n",
       "6  927 LOVING HWY GRAHAM, TX. 76450               0648444VSF   \n",
       "7  1210 380 BYPASS GRAHAM, TX. 76450              0651667VSF   \n",
       "8  10842 FM 2138 N JACKSONVILLE, TX. 75766        006017767C   \n",
       "9  4338 HARVEY RD CROSBY, TX. 77532               006495492C   \n",
       "\n",
       "                                                                             url  \n",
       "0  https://www.tdlr.texas.gov/tools_search/mccs_display.asp?mcrnumber=006507931C  \n",
       "1  https://www.tdlr.texas.gov/tools_search/mccs_display.asp?mcrnumber=006179570C  \n",
       "2  https://www.tdlr.texas.gov/tools_search/mccs_display.asp?mcrnumber=006502097C  \n",
       "3  https://www.tdlr.texas.gov/tools_search/mccs_display.asp?mcrnumber=006494912C  \n",
       "4  https://www.tdlr.texas.gov/tools_search/mccs_display.asp?mcrnumber=0649468VSF  \n",
       "5  https://www.tdlr.texas.gov/tools_search/mccs_display.asp?mcrnumber=006448786C  \n",
       "6  https://www.tdlr.texas.gov/tools_search/mccs_display.asp?mcrnumber=0648444VSF  \n",
       "7  https://www.tdlr.texas.gov/tools_search/mccs_display.asp?mcrnumber=0651667VSF  \n",
       "8  https://www.tdlr.texas.gov/tools_search/mccs_display.asp?mcrnumber=006017767C  \n",
       "9  https://www.tdlr.texas.gov/tools_search/mccs_display.asp?mcrnumber=006495492C  "
      ]
     },
     "execution_count": 172,
     "metadata": {},
     "output_type": "execute_result"
    }
   ],
   "source": [
    "new_df2 = df2.apply(get_company_info, axis=1).join(df2)\n",
    "new_df2.head(10)"
   ]
  },
  {
   "cell_type": "code",
   "execution_count": 173,
   "metadata": {},
   "outputs": [],
   "source": [
    "new_df2.to_csv(\"tow-trucks-extended.csv\", index=False)"
   ]
  },
  {
   "cell_type": "code",
   "execution_count": 176,
   "metadata": {},
   "outputs": [
    {
     "data": {
      "text/html": [
       "<div>\n",
       "<style scoped>\n",
       "    .dataframe tbody tr th:only-of-type {\n",
       "        vertical-align: middle;\n",
       "    }\n",
       "\n",
       "    .dataframe tbody tr th {\n",
       "        vertical-align: top;\n",
       "    }\n",
       "\n",
       "    .dataframe thead th {\n",
       "        text-align: right;\n",
       "    }\n",
       "</style>\n",
       "<table border=\"1\" class=\"dataframe\">\n",
       "  <thead>\n",
       "    <tr style=\"text-align: right;\">\n",
       "      <th></th>\n",
       "      <th>comp_name</th>\n",
       "      <th>owner</th>\n",
       "      <th>phone</th>\n",
       "      <th>lic_status</th>\n",
       "      <th>address</th>\n",
       "      <th>TDLR Number</th>\n",
       "      <th>url</th>\n",
       "    </tr>\n",
       "  </thead>\n",
       "  <tbody>\n",
       "    <tr>\n",
       "      <th>0</th>\n",
       "      <td>AUGUSTUS E SMITH</td>\n",
       "      <td>AUGUSTUS EUGENE SMITH / OWNER</td>\n",
       "      <td>9032276464</td>\n",
       "      <td>(Active)</td>\n",
       "      <td>103 N MAIN ST BONHAM, TX. 75418</td>\n",
       "      <td>006507931C</td>\n",
       "      <td>https://www.tdlr.texas.gov/tools_search/mccs_display.asp?mcrnumber=006507931C</td>\n",
       "    </tr>\n",
       "    <tr>\n",
       "      <th>1</th>\n",
       "      <td>B.D. SMITH TOWING</td>\n",
       "      <td>BRANDT SMITH / OWNER</td>\n",
       "      <td>8173330706</td>\n",
       "      <td>(Expired)</td>\n",
       "      <td>13619 BRETT JACKSON RD. FORT WORTH, TX. 76179</td>\n",
       "      <td>006179570C</td>\n",
       "      <td>https://www.tdlr.texas.gov/tools_search/mccs_display.asp?mcrnumber=006179570C</td>\n",
       "    </tr>\n",
       "    <tr>\n",
       "      <th>2</th>\n",
       "      <td>BARRY MICHAEL SMITH</td>\n",
       "      <td>BARRY MICHAEL SMITH / OWNER</td>\n",
       "      <td>8066544404</td>\n",
       "      <td>(Active)</td>\n",
       "      <td>4501 W CEMETERY RD CANYON, TX. 79015</td>\n",
       "      <td>006502097C</td>\n",
       "      <td>https://www.tdlr.texas.gov/tools_search/mccs_display.asp?mcrnumber=006502097C</td>\n",
       "    </tr>\n",
       "    <tr>\n",
       "      <th>3</th>\n",
       "      <td>HEATH SMITH</td>\n",
       "      <td>HEATH A SMITH / OWNER</td>\n",
       "      <td>940-552-0687</td>\n",
       "      <td>(Expired)</td>\n",
       "      <td>1529 WILBARGER ST VERNON, TX. 76384</td>\n",
       "      <td>006494912C</td>\n",
       "      <td>https://www.tdlr.texas.gov/tools_search/mccs_display.asp?mcrnumber=006494912C</td>\n",
       "    </tr>\n",
       "    <tr>\n",
       "      <th>4</th>\n",
       "      <td>HEATH SMITH</td>\n",
       "      <td>HEATH A SMITH / OWNER</td>\n",
       "      <td>9405520687</td>\n",
       "      <td>(Expired)</td>\n",
       "      <td>1529 WILBARGER ST VERNON, TX. 76384</td>\n",
       "      <td>0649468VSF</td>\n",
       "      <td>https://www.tdlr.texas.gov/tools_search/mccs_display.asp?mcrnumber=0649468VSF</td>\n",
       "    </tr>\n",
       "    <tr>\n",
       "      <th>5</th>\n",
       "      <td>HYSMITH AUTOMOTIVE</td>\n",
       "      <td>WILLIAM THOMAS HYSMITH / PRESIDENT</td>\n",
       "      <td>icer:   ASHLEY ERIN HYSMITH / TREASURER</td>\n",
       "      <td>(Active)</td>\n",
       "      <td>1210 US 380 BYPASS GRAHAM, TX. 76450</td>\n",
       "      <td>006448786C</td>\n",
       "      <td>https://www.tdlr.texas.gov/tools_search/mccs_display.asp?mcrnumber=006448786C</td>\n",
       "    </tr>\n",
       "    <tr>\n",
       "      <th>6</th>\n",
       "      <td>HYSMITH AUTOMOTIVE &amp; TRUCK REPAIR INC</td>\n",
       "      <td>HYSMITH ERIN ASHLEY / TREASURER</td>\n",
       "      <td>icer:   WILLIAM THOMAS HYSMITH / PRESIDENT</td>\n",
       "      <td>(Suspended)</td>\n",
       "      <td>927 LOVING HWY GRAHAM, TX. 76450</td>\n",
       "      <td>0648444VSF</td>\n",
       "      <td>https://www.tdlr.texas.gov/tools_search/mccs_display.asp?mcrnumber=0648444VSF</td>\n",
       "    </tr>\n",
       "    <tr>\n",
       "      <th>7</th>\n",
       "      <td>HYSMITH AUTOMOTIVE &amp; TRUCK REPAIR INC</td>\n",
       "      <td>WILLIAM THOMAS HYSMITH / PRESIDENT</td>\n",
       "      <td>icer:   ASHLEY ERIN HYSMITH / TREASURER</td>\n",
       "      <td>(Active)</td>\n",
       "      <td>1210 380 BYPASS GRAHAM, TX. 76450</td>\n",
       "      <td>0651667VSF</td>\n",
       "      <td>https://www.tdlr.texas.gov/tools_search/mccs_display.asp?mcrnumber=0651667VSF</td>\n",
       "    </tr>\n",
       "    <tr>\n",
       "      <th>8</th>\n",
       "      <td>JEFF &amp; WENDY SMITH</td>\n",
       "      <td>JEFF SMITH / PARTNER</td>\n",
       "      <td>icer:   WENDY SMITH / PARTNER</td>\n",
       "      <td>(Suspended)</td>\n",
       "      <td>10842 FM 2138 N JACKSONVILLE, TX. 75766</td>\n",
       "      <td>006017767C</td>\n",
       "      <td>https://www.tdlr.texas.gov/tools_search/mccs_display.asp?mcrnumber=006017767C</td>\n",
       "    </tr>\n",
       "    <tr>\n",
       "      <th>9</th>\n",
       "      <td>JEFF SMITH</td>\n",
       "      <td>JEFFREY JOHN SMITH / OWNER</td>\n",
       "      <td>8324354670</td>\n",
       "      <td>(Active)</td>\n",
       "      <td>4338 HARVEY RD CROSBY, TX. 77532</td>\n",
       "      <td>006495492C</td>\n",
       "      <td>https://www.tdlr.texas.gov/tools_search/mccs_display.asp?mcrnumber=006495492C</td>\n",
       "    </tr>\n",
       "  </tbody>\n",
       "</table>\n",
       "</div>"
      ],
      "text/plain": [
       "                               comp_name                               owner  \\\n",
       "0  AUGUSTUS E SMITH                       AUGUSTUS EUGENE SMITH / OWNER        \n",
       "1  B.D. SMITH TOWING                      BRANDT SMITH / OWNER                 \n",
       "2  BARRY MICHAEL SMITH                    BARRY MICHAEL SMITH / OWNER          \n",
       "3  HEATH SMITH                            HEATH A SMITH / OWNER                \n",
       "4  HEATH SMITH                            HEATH A SMITH / OWNER                \n",
       "5  HYSMITH AUTOMOTIVE                     WILLIAM THOMAS HYSMITH / PRESIDENT   \n",
       "6  HYSMITH AUTOMOTIVE & TRUCK REPAIR INC  HYSMITH ERIN ASHLEY / TREASURER      \n",
       "7  HYSMITH AUTOMOTIVE & TRUCK REPAIR INC  WILLIAM THOMAS HYSMITH / PRESIDENT   \n",
       "8  JEFF & WENDY SMITH                     JEFF SMITH / PARTNER                 \n",
       "9  JEFF SMITH                             JEFFREY JOHN SMITH / OWNER           \n",
       "\n",
       "                                        phone   lic_status  \\\n",
       "0  9032276464                                  (Active)      \n",
       "1  8173330706                                  (Expired)     \n",
       "2  8066544404                                  (Active)      \n",
       "3  940-552-0687                                (Expired)     \n",
       "4  9405520687                                  (Expired)     \n",
       "5  icer:   ASHLEY ERIN HYSMITH / TREASURER     (Active)      \n",
       "6  icer:   WILLIAM THOMAS HYSMITH / PRESIDENT  (Suspended)   \n",
       "7  icer:   ASHLEY ERIN HYSMITH / TREASURER     (Active)      \n",
       "8  icer:   WENDY SMITH / PARTNER               (Suspended)   \n",
       "9  8324354670                                  (Active)      \n",
       "\n",
       "                                         address TDLR Number  \\\n",
       "0  103 N MAIN ST BONHAM, TX. 75418                006507931C   \n",
       "1  13619 BRETT JACKSON RD. FORT WORTH, TX. 76179  006179570C   \n",
       "2  4501 W CEMETERY RD CANYON, TX. 79015           006502097C   \n",
       "3  1529 WILBARGER ST VERNON, TX. 76384            006494912C   \n",
       "4  1529 WILBARGER ST VERNON, TX. 76384            0649468VSF   \n",
       "5  1210 US 380 BYPASS GRAHAM, TX. 76450           006448786C   \n",
       "6  927 LOVING HWY GRAHAM, TX. 76450               0648444VSF   \n",
       "7  1210 380 BYPASS GRAHAM, TX. 76450              0651667VSF   \n",
       "8  10842 FM 2138 N JACKSONVILLE, TX. 75766        006017767C   \n",
       "9  4338 HARVEY RD CROSBY, TX. 77532               006495492C   \n",
       "\n",
       "                                                                             url  \n",
       "0  https://www.tdlr.texas.gov/tools_search/mccs_display.asp?mcrnumber=006507931C  \n",
       "1  https://www.tdlr.texas.gov/tools_search/mccs_display.asp?mcrnumber=006179570C  \n",
       "2  https://www.tdlr.texas.gov/tools_search/mccs_display.asp?mcrnumber=006502097C  \n",
       "3  https://www.tdlr.texas.gov/tools_search/mccs_display.asp?mcrnumber=006494912C  \n",
       "4  https://www.tdlr.texas.gov/tools_search/mccs_display.asp?mcrnumber=0649468VSF  \n",
       "5  https://www.tdlr.texas.gov/tools_search/mccs_display.asp?mcrnumber=006448786C  \n",
       "6  https://www.tdlr.texas.gov/tools_search/mccs_display.asp?mcrnumber=0648444VSF  \n",
       "7  https://www.tdlr.texas.gov/tools_search/mccs_display.asp?mcrnumber=0651667VSF  \n",
       "8  https://www.tdlr.texas.gov/tools_search/mccs_display.asp?mcrnumber=006017767C  \n",
       "9  https://www.tdlr.texas.gov/tools_search/mccs_display.asp?mcrnumber=006495492C  "
      ]
     },
     "execution_count": 176,
     "metadata": {},
     "output_type": "execute_result"
    }
   ],
   "source": [
    "df3 = pd.read_csv(\"tow-trucks-extended.csv\")\n",
    "df3.head(10)"
   ]
  },
  {
   "cell_type": "code",
   "execution_count": null,
   "metadata": {},
   "outputs": [],
   "source": []
  }
 ],
 "metadata": {
  "kernelspec": {
   "display_name": "Python 3",
   "language": "python",
   "name": "python3"
  },
  "language_info": {
   "codemirror_mode": {
    "name": "ipython",
    "version": 3
   },
   "file_extension": ".py",
   "mimetype": "text/x-python",
   "name": "python",
   "nbconvert_exporter": "python",
   "pygments_lexer": "ipython3",
   "version": "3.6.5"
  }
 },
 "nbformat": 4,
 "nbformat_minor": 2
}
